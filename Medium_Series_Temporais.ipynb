{
  "nbformat": 4,
  "nbformat_minor": 0,
  "metadata": {
    "colab": {
      "provenance": [],
      "toc_visible": true
    },
    "kernelspec": {
      "name": "python3",
      "display_name": "Python 3"
    },
    "language_info": {
      "name": "python"
    }
  },
  "cells": [
    {
      "cell_type": "markdown",
      "source": [
        "# Análise de Dados de Passageiros Aéreos com base no Modelo ARIMA"
      ],
      "metadata": {
        "id": "PKexnZQLgOEq"
      }
    },
    {
      "cell_type": "markdown",
      "source": [
        "A previsão do número de passageiros aéreos é um problema comercial para todas as companhias aéreas.Uma previsão mais precisa pode ajudar uma empresa a gerenciar o orçamento do próximo ano fiscal, aumentando o lucro e a satisfação dos clientes com os serviços."
      ],
      "metadata": {
        "id": "yATKcpGOgwC6"
      }
    },
    {
      "cell_type": "markdown",
      "source": [
        "# Analise Exploratoria"
      ],
      "metadata": {
        "id": "60vwMv91gEn2"
      }
    },
    {
      "cell_type": "markdown",
      "source": [
        "Os dados fornecidos são do Kaggle: https://www.kaggle.com/datasets/rakannimer/air-passengers. Eles registram o número de passageiros aéreos a cada mês, de janeiro de 1949 a dezembro de 1960."
      ],
      "metadata": {
        "id": "FjOrpXQNfDmb"
      }
    },
    {
      "cell_type": "markdown",
      "source": [
        "## Pacotes"
      ],
      "metadata": {
        "id": "FchwCH36hncl"
      }
    },
    {
      "cell_type": "code",
      "source": [
        "pip install pmdarima\n"
      ],
      "metadata": {
        "colab": {
          "base_uri": "https://localhost:8080/"
        },
        "id": "2KaPWuCShr_H",
        "outputId": "b2ef852a-a4c4-46df-d609-0fad48fe08c4"
      },
      "execution_count": 176,
      "outputs": [
        {
          "output_type": "stream",
          "name": "stdout",
          "text": [
            "Requirement already satisfied: pmdarima in /usr/local/lib/python3.10/dist-packages (2.0.4)\n",
            "Requirement already satisfied: joblib>=0.11 in /usr/local/lib/python3.10/dist-packages (from pmdarima) (1.4.2)\n",
            "Requirement already satisfied: Cython!=0.29.18,!=0.29.31,>=0.29 in /usr/local/lib/python3.10/dist-packages (from pmdarima) (3.0.11)\n",
            "Requirement already satisfied: numpy>=1.21.2 in /usr/local/lib/python3.10/dist-packages (from pmdarima) (1.26.4)\n",
            "Requirement already satisfied: pandas>=0.19 in /usr/local/lib/python3.10/dist-packages (from pmdarima) (2.1.4)\n",
            "Requirement already satisfied: scikit-learn>=0.22 in /usr/local/lib/python3.10/dist-packages (from pmdarima) (1.3.2)\n",
            "Requirement already satisfied: scipy>=1.3.2 in /usr/local/lib/python3.10/dist-packages (from pmdarima) (1.13.1)\n",
            "Requirement already satisfied: statsmodels>=0.13.2 in /usr/local/lib/python3.10/dist-packages (from pmdarima) (0.14.2)\n",
            "Requirement already satisfied: urllib3 in /usr/local/lib/python3.10/dist-packages (from pmdarima) (2.0.7)\n",
            "Requirement already satisfied: setuptools!=50.0.0,>=38.6.0 in /usr/local/lib/python3.10/dist-packages (from pmdarima) (71.0.4)\n",
            "Requirement already satisfied: packaging>=17.1 in /usr/local/lib/python3.10/dist-packages (from pmdarima) (24.1)\n",
            "Requirement already satisfied: python-dateutil>=2.8.2 in /usr/local/lib/python3.10/dist-packages (from pandas>=0.19->pmdarima) (2.8.2)\n",
            "Requirement already satisfied: pytz>=2020.1 in /usr/local/lib/python3.10/dist-packages (from pandas>=0.19->pmdarima) (2024.1)\n",
            "Requirement already satisfied: tzdata>=2022.1 in /usr/local/lib/python3.10/dist-packages (from pandas>=0.19->pmdarima) (2024.1)\n",
            "Requirement already satisfied: threadpoolctl>=2.0.0 in /usr/local/lib/python3.10/dist-packages (from scikit-learn>=0.22->pmdarima) (3.5.0)\n",
            "Requirement already satisfied: patsy>=0.5.6 in /usr/local/lib/python3.10/dist-packages (from statsmodels>=0.13.2->pmdarima) (0.5.6)\n",
            "Requirement already satisfied: six in /usr/local/lib/python3.10/dist-packages (from patsy>=0.5.6->statsmodels>=0.13.2->pmdarima) (1.16.0)\n"
          ]
        }
      ]
    },
    {
      "cell_type": "code",
      "source": [
        "pip install pandas openpyxl"
      ],
      "metadata": {
        "colab": {
          "base_uri": "https://localhost:8080/"
        },
        "id": "5ciQgp60hyNP",
        "outputId": "072506df-934d-4418-9c26-7e9b0b121e85"
      },
      "execution_count": 177,
      "outputs": [
        {
          "output_type": "stream",
          "name": "stdout",
          "text": [
            "Requirement already satisfied: pandas in /usr/local/lib/python3.10/dist-packages (2.1.4)\n",
            "Requirement already satisfied: openpyxl in /usr/local/lib/python3.10/dist-packages (3.1.5)\n",
            "Requirement already satisfied: numpy<2,>=1.22.4 in /usr/local/lib/python3.10/dist-packages (from pandas) (1.26.4)\n",
            "Requirement already satisfied: python-dateutil>=2.8.2 in /usr/local/lib/python3.10/dist-packages (from pandas) (2.8.2)\n",
            "Requirement already satisfied: pytz>=2020.1 in /usr/local/lib/python3.10/dist-packages (from pandas) (2024.1)\n",
            "Requirement already satisfied: tzdata>=2022.1 in /usr/local/lib/python3.10/dist-packages (from pandas) (2024.1)\n",
            "Requirement already satisfied: et-xmlfile in /usr/local/lib/python3.10/dist-packages (from openpyxl) (1.1.0)\n",
            "Requirement already satisfied: six>=1.5 in /usr/local/lib/python3.10/dist-packages (from python-dateutil>=2.8.2->pandas) (1.16.0)\n"
          ]
        }
      ]
    },
    {
      "cell_type": "code",
      "source": [
        "import numpy as np\n",
        "import pandas as pd\n",
        "import matplotlib.pyplot as plt\n",
        "from pmdarima.arima import auto_arima\n",
        "import matplotlib.pyplot as plt"
      ],
      "metadata": {
        "id": "qPQ-Cu_ChnKR"
      },
      "execution_count": 178,
      "outputs": []
    },
    {
      "cell_type": "markdown",
      "source": [
        "## Leitura dos dados"
      ],
      "metadata": {
        "id": "Pb1D97W_h12u"
      }
    },
    {
      "cell_type": "code",
      "source": [
        "Passageiros= pd.read_csv('/content/drive/MyDrive/Colab Notebooks/AirPassengers.csv')\n",
        "print(Passageiros)"
      ],
      "metadata": {
        "colab": {
          "base_uri": "https://localhost:8080/"
        },
        "id": "1BniV-ARfFzu",
        "outputId": "bf7d9108-5529-4ef6-fce3-5a5099db2ddf"
      },
      "execution_count": 179,
      "outputs": [
        {
          "output_type": "stream",
          "name": "stdout",
          "text": [
            "       Month  #Passengers\n",
            "0    1949-01          112\n",
            "1    1949-02          118\n",
            "2    1949-03          132\n",
            "3    1949-04          129\n",
            "4    1949-05          121\n",
            "..       ...          ...\n",
            "139  1960-08          606\n",
            "140  1960-09          508\n",
            "141  1960-10          461\n",
            "142  1960-11          390\n",
            "143  1960-12          432\n",
            "\n",
            "[144 rows x 2 columns]\n"
          ]
        }
      ]
    },
    {
      "cell_type": "markdown",
      "source": [
        "Observe que o conjunto de dados possui a quantidade de passageiros por mes e ano, desde 1949 até 1960."
      ],
      "metadata": {
        "id": "FZ9-bX7yiOZ2"
      }
    },
    {
      "cell_type": "code",
      "source": [
        "media=np.mean(Passageiros['#Passengers'].values)\n",
        "print(media)\n",
        "Passageiros['#Passengers'].values"
      ],
      "metadata": {
        "colab": {
          "base_uri": "https://localhost:8080/"
        },
        "id": "u7VohhFvfFlp",
        "outputId": "28986334-d2de-484b-d226-b1ee1d13d7b7"
      },
      "execution_count": 180,
      "outputs": [
        {
          "output_type": "stream",
          "name": "stdout",
          "text": [
            "280.2986111111111\n"
          ]
        },
        {
          "output_type": "execute_result",
          "data": {
            "text/plain": [
              "array([112, 118, 132, 129, 121, 135, 148, 148, 136, 119, 104, 118, 115,\n",
              "       126, 141, 135, 125, 149, 170, 170, 158, 133, 114, 140, 145, 150,\n",
              "       178, 163, 172, 178, 199, 199, 184, 162, 146, 166, 171, 180, 193,\n",
              "       181, 183, 218, 230, 242, 209, 191, 172, 194, 196, 196, 236, 235,\n",
              "       229, 243, 264, 272, 237, 211, 180, 201, 204, 188, 235, 227, 234,\n",
              "       264, 302, 293, 259, 229, 203, 229, 242, 233, 267, 269, 270, 315,\n",
              "       364, 347, 312, 274, 237, 278, 284, 277, 317, 313, 318, 374, 413,\n",
              "       405, 355, 306, 271, 306, 315, 301, 356, 348, 355, 422, 465, 467,\n",
              "       404, 347, 305, 336, 340, 318, 362, 348, 363, 435, 491, 505, 404,\n",
              "       359, 310, 337, 360, 342, 406, 396, 420, 472, 548, 559, 463, 407,\n",
              "       362, 405, 417, 391, 419, 461, 472, 535, 622, 606, 508, 461, 390,\n",
              "       432])"
            ]
          },
          "metadata": {},
          "execution_count": 180
        }
      ]
    },
    {
      "cell_type": "code",
      "source": [
        "# Informações gerais\n",
        "Passageiros.info()"
      ],
      "metadata": {
        "colab": {
          "base_uri": "https://localhost:8080/"
        },
        "id": "0yrbb4PffFcy",
        "outputId": "8098799a-732f-457c-8626-21d05c258177"
      },
      "execution_count": 181,
      "outputs": [
        {
          "output_type": "stream",
          "name": "stdout",
          "text": [
            "<class 'pandas.core.frame.DataFrame'>\n",
            "RangeIndex: 144 entries, 0 to 143\n",
            "Data columns (total 2 columns):\n",
            " #   Column       Non-Null Count  Dtype \n",
            "---  ------       --------------  ----- \n",
            " 0   Month        144 non-null    object\n",
            " 1   #Passengers  144 non-null    int64 \n",
            "dtypes: int64(1), object(1)\n",
            "memory usage: 2.4+ KB\n"
          ]
        }
      ]
    },
    {
      "cell_type": "markdown",
      "source": [
        "## Estatísticas descritivas"
      ],
      "metadata": {
        "id": "VwOhJOlnj5Mv"
      }
    },
    {
      "cell_type": "code",
      "source": [
        "print(Passageiros.describe())"
      ],
      "metadata": {
        "colab": {
          "base_uri": "https://localhost:8080/"
        },
        "id": "DAi3_BOgj0MP",
        "outputId": "5f316674-f7aa-43c5-8f5a-a381aa17c171"
      },
      "execution_count": 182,
      "outputs": [
        {
          "output_type": "stream",
          "name": "stdout",
          "text": [
            "       #Passengers\n",
            "count   144.000000\n",
            "mean    280.298611\n",
            "std     119.966317\n",
            "min     104.000000\n",
            "25%     180.000000\n",
            "50%     265.500000\n",
            "75%     360.500000\n",
            "max     622.000000\n"
          ]
        }
      ]
    },
    {
      "cell_type": "markdown",
      "source": [
        "# Análise de Séries Temporais"
      ],
      "metadata": {
        "id": "1uwoYVqDfFVh"
      }
    },
    {
      "cell_type": "markdown",
      "source": [
        "Definir o data frame como uma serie temporal"
      ],
      "metadata": {
        "id": "ZV6Uuzi9lR7W"
      }
    },
    {
      "cell_type": "code",
      "source": [
        "print(Passageiros.columns)"
      ],
      "metadata": {
        "colab": {
          "base_uri": "https://localhost:8080/"
        },
        "id": "SirLPsr1k8YI",
        "outputId": "b00cc0dd-466d-415d-ad7e-cdd58c85978a"
      },
      "execution_count": 183,
      "outputs": [
        {
          "output_type": "stream",
          "name": "stdout",
          "text": [
            "Index(['Month', '#Passengers'], dtype='object')\n"
          ]
        }
      ]
    },
    {
      "cell_type": "markdown",
      "source": [
        "Converter a coluna de datas para datetime"
      ],
      "metadata": {
        "id": "nmyyoMi3lHsT"
      }
    },
    {
      "cell_type": "code",
      "source": [
        "Passageiros['Month'] = pd.to_datetime(Passageiros['Month'])"
      ],
      "metadata": {
        "id": "5gjfePPBk1xD"
      },
      "execution_count": 184,
      "outputs": []
    },
    {
      "cell_type": "code",
      "source": [
        "Passageiros.set_index('Month', inplace=True)"
      ],
      "metadata": {
        "id": "zs3pyXQ3lV-Z"
      },
      "execution_count": 185,
      "outputs": []
    },
    {
      "cell_type": "code",
      "source": [
        "print(Passageiros)"
      ],
      "metadata": {
        "colab": {
          "base_uri": "https://localhost:8080/"
        },
        "id": "aZQE8FrXfFMY",
        "outputId": "7f1d9128-e623-4a65-c9cc-53ce60e3178e"
      },
      "execution_count": 186,
      "outputs": [
        {
          "output_type": "stream",
          "name": "stdout",
          "text": [
            "            #Passengers\n",
            "Month                  \n",
            "1949-01-01          112\n",
            "1949-02-01          118\n",
            "1949-03-01          132\n",
            "1949-04-01          129\n",
            "1949-05-01          121\n",
            "...                 ...\n",
            "1960-08-01          606\n",
            "1960-09-01          508\n",
            "1960-10-01          461\n",
            "1960-11-01          390\n",
            "1960-12-01          432\n",
            "\n",
            "[144 rows x 1 columns]\n"
          ]
        }
      ]
    },
    {
      "cell_type": "code",
      "source": [
        "serie = pd.Series(Passageiros['#Passengers'])\n",
        "serie"
      ],
      "metadata": {
        "colab": {
          "base_uri": "https://localhost:8080/",
          "height": 490
        },
        "id": "VTH7NNhWkSTA",
        "outputId": "c5094777-ebcd-484d-e7c1-659f6cf59b45"
      },
      "execution_count": 187,
      "outputs": [
        {
          "output_type": "execute_result",
          "data": {
            "text/plain": [
              "Month\n",
              "1949-01-01    112\n",
              "1949-02-01    118\n",
              "1949-03-01    132\n",
              "1949-04-01    129\n",
              "1949-05-01    121\n",
              "             ... \n",
              "1960-08-01    606\n",
              "1960-09-01    508\n",
              "1960-10-01    461\n",
              "1960-11-01    390\n",
              "1960-12-01    432\n",
              "Name: #Passengers, Length: 144, dtype: int64"
            ],
            "text/html": [
              "<div>\n",
              "<style scoped>\n",
              "    .dataframe tbody tr th:only-of-type {\n",
              "        vertical-align: middle;\n",
              "    }\n",
              "\n",
              "    .dataframe tbody tr th {\n",
              "        vertical-align: top;\n",
              "    }\n",
              "\n",
              "    .dataframe thead th {\n",
              "        text-align: right;\n",
              "    }\n",
              "</style>\n",
              "<table border=\"1\" class=\"dataframe\">\n",
              "  <thead>\n",
              "    <tr style=\"text-align: right;\">\n",
              "      <th></th>\n",
              "      <th>#Passengers</th>\n",
              "    </tr>\n",
              "    <tr>\n",
              "      <th>Month</th>\n",
              "      <th></th>\n",
              "    </tr>\n",
              "  </thead>\n",
              "  <tbody>\n",
              "    <tr>\n",
              "      <th>1949-01-01</th>\n",
              "      <td>112</td>\n",
              "    </tr>\n",
              "    <tr>\n",
              "      <th>1949-02-01</th>\n",
              "      <td>118</td>\n",
              "    </tr>\n",
              "    <tr>\n",
              "      <th>1949-03-01</th>\n",
              "      <td>132</td>\n",
              "    </tr>\n",
              "    <tr>\n",
              "      <th>1949-04-01</th>\n",
              "      <td>129</td>\n",
              "    </tr>\n",
              "    <tr>\n",
              "      <th>1949-05-01</th>\n",
              "      <td>121</td>\n",
              "    </tr>\n",
              "    <tr>\n",
              "      <th>...</th>\n",
              "      <td>...</td>\n",
              "    </tr>\n",
              "    <tr>\n",
              "      <th>1960-08-01</th>\n",
              "      <td>606</td>\n",
              "    </tr>\n",
              "    <tr>\n",
              "      <th>1960-09-01</th>\n",
              "      <td>508</td>\n",
              "    </tr>\n",
              "    <tr>\n",
              "      <th>1960-10-01</th>\n",
              "      <td>461</td>\n",
              "    </tr>\n",
              "    <tr>\n",
              "      <th>1960-11-01</th>\n",
              "      <td>390</td>\n",
              "    </tr>\n",
              "    <tr>\n",
              "      <th>1960-12-01</th>\n",
              "      <td>432</td>\n",
              "    </tr>\n",
              "  </tbody>\n",
              "</table>\n",
              "<p>144 rows × 1 columns</p>\n",
              "</div><br><label><b>dtype:</b> int64</label>"
            ]
          },
          "metadata": {},
          "execution_count": 187
        }
      ]
    },
    {
      "cell_type": "code",
      "source": [
        "serie.plot()\n",
        "plt.show()"
      ],
      "metadata": {
        "colab": {
          "base_uri": "https://localhost:8080/",
          "height": 449
        },
        "id": "5SR85shWkUCu",
        "outputId": "ee40fd09-d705-48a8-e495-187c54f5ec09"
      },
      "execution_count": 188,
      "outputs": [
        {
          "output_type": "display_data",
          "data": {
            "text/plain": [
              "<Figure size 640x480 with 1 Axes>"
            ],
            "image/png": "[encoded data removed]"
          },
          "metadata": {}
        }
      ]
    },
    {
      "cell_type": "markdown",
      "source": [
        "# Decomposicao"
      ],
      "metadata": {
        "id": "Bkaj4J04fFEu"
      }
    },
    {
      "cell_type": "code",
      "source": [
        "from statsmodels.tsa.seasonal import seasonal_decompose"
      ],
      "metadata": {
        "id": "rR5D57vDfEx2"
      },
      "execution_count": 189,
      "outputs": []
    },
    {
      "cell_type": "code",
      "source": [
        "decomposicao = seasonal_decompose(serie)"
      ],
      "metadata": {
        "id": "qA1_mBFalrNg"
      },
      "execution_count": 190,
      "outputs": []
    },
    {
      "cell_type": "code",
      "source": [
        "decomposicao.plot()\n",
        "plt.show()"
      ],
      "metadata": {
        "colab": {
          "base_uri": "https://localhost:8080/",
          "height": 487
        },
        "id": "p9Y2Edb8ls4k",
        "outputId": "4165d678-0214-47c9-9c9b-4cec40d31741"
      },
      "execution_count": 191,
      "outputs": [
        {
          "output_type": "display_data",
          "data": {
            "text/plain": [
              "<Figure size 640x480 with 4 Axes>"
            ],
            "image/png": "[encoded data removed]"
          },
          "metadata": {}
        }
      ]
    },
    {
      "cell_type": "markdown",
      "source": [
        "E possivel visualizar os dados originais a tendencia da serie, a sazonalidade da serie e como se comporta os residuos"
      ],
      "metadata": {
        "id": "Pk55cT3jl_Md"
      }
    },
    {
      "cell_type": "markdown",
      "source": [
        "# O que significa o Coeficiente Angular?"
      ],
      "metadata": {
        "id": "zflXMgHLnjKl"
      }
    },
    {
      "cell_type": "markdown",
      "source": [
        "\n",
        "O coeficiente angular indica a inclinação da linha ajustada aos dados. Em uma série temporal, ele representa a taxa de variação dos valores ao longo do tempo. Por exemplo, se o coeficiente angular for positivo, a série tende a crescer ao longo do tempo; se for negativo, a série tende a decrescer."
      ],
      "metadata": {
        "id": "xb27k0bgnhG6"
      }
    },
    {
      "cell_type": "code",
      "source": [
        "import numpy as np\n",
        "from sklearn.linear_model import LinearRegression"
      ],
      "metadata": {
        "id": "IKaERWMZl_jk"
      },
      "execution_count": 192,
      "outputs": []
    },
    {
      "cell_type": "code",
      "source": [
        "X = np.arange(len(serie)).reshape(-1, 1)\n",
        "y = serie.values\n",
        "\n",
        "# Ajustar o modelo de regressão linear\n",
        "modelo = LinearRegression().fit(X, y)\n",
        "coeficiente_angular = modelo.coef_[0]\n",
        "print(f'Coeficiente Angular: {coeficiente_angular}')"
      ],
      "metadata": {
        "colab": {
          "base_uri": "https://localhost:8080/"
        },
        "id": "LwPKvozwl_-b",
        "outputId": "7e526448-5373-4172-d9f2-45932428606e"
      },
      "execution_count": 193,
      "outputs": [
        {
          "output_type": "stream",
          "name": "stdout",
          "text": [
            "Coeficiente Angular: 2.6571839080459774\n"
          ]
        }
      ]
    },
    {
      "cell_type": "markdown",
      "source": [
        "É possivel visualizar o coeficiente Angular de 2.66, isso implicaria que, em média, o número de passageiros está aumentando em 2.66 unidades a cada período de tempo. O que confirma a tendencia crescente visualizada na decomposição."
      ],
      "metadata": {
        "id": "8fbVodHbmZFm"
      }
    },
    {
      "cell_type": "markdown",
      "source": [
        "# Media Movel"
      ],
      "metadata": {
        "id": "PGnmzzOZl_zD"
      }
    },
    {
      "cell_type": "code",
      "source": [
        "media_movel = serie.rolling(window=3)\n",
        "media_movel = media_movel.mean()\n",
        "print(media_movel)"
      ],
      "metadata": {
        "colab": {
          "base_uri": "https://localhost:8080/"
        },
        "id": "gzxBoQ4CmsXG",
        "outputId": "d51aa02e-562d-4cff-ca17-0868c8d50668"
      },
      "execution_count": 194,
      "outputs": [
        {
          "output_type": "stream",
          "name": "stdout",
          "text": [
            "Month\n",
            "1949-01-01           NaN\n",
            "1949-02-01           NaN\n",
            "1949-03-01    120.666667\n",
            "1949-04-01    126.333333\n",
            "1949-05-01    127.333333\n",
            "                 ...    \n",
            "1960-08-01    587.666667\n",
            "1960-09-01    578.666667\n",
            "1960-10-01    525.000000\n",
            "1960-11-01    453.000000\n",
            "1960-12-01    427.666667\n",
            "Name: #Passengers, Length: 144, dtype: float64\n"
          ]
        }
      ]
    },
    {
      "cell_type": "code",
      "source": [
        "plt.plot(serie.iloc[:24] , label='Série Real')\n",
        "plt.plot(media_movel.iloc[:24],color='red', label='Média Móvel Anual (3)')\n",
        "plt.legend(loc='best')\n",
        "plt.show()"
      ],
      "metadata": {
        "colab": {
          "base_uri": "https://localhost:8080/",
          "height": 430
        },
        "id": "sww2MW8Qmwfi",
        "outputId": "5a05ba5b-1d61-4cde-d18b-08162246b422"
      },
      "execution_count": 195,
      "outputs": [
        {
          "output_type": "display_data",
          "data": {
            "text/plain": [
              "<Figure size 640x480 with 1 Axes>"
            ],
            "image/png": "[encoded data removed]"
          },
          "metadata": {}
        }
      ]
    },
    {
      "cell_type": "markdown",
      "source": [
        "É possível observar a volatilidade no número de passageiros ao longo do ano:\n",
        "\n",
        "1. Crescimento nos primeiros três meses: Aumento das viagens pós-festas de fim de ano.\n",
        "\n",
        "2. Decaimento até o mês 5: Menor demanda após o período de férias.\n",
        "\n",
        "3. Crescimento entre os meses 6 e 7: Alta temporada de viagens durante o verão.\n",
        "\n",
        "4. Nova queda após o verão: Diminuição nas viagens entre agosto e outubro.\n",
        "\n",
        "5. Crescimento em novembro e dezembro: Aumento nas viagens devido às festas de fim de ano.\n",
        "\n",
        "Essas oscilações refletem a volatilidade sazonal típica no número de passageiros ao longo do ano."
      ],
      "metadata": {
        "id": "DR8gdsFKqJ-O"
      }
    },
    {
      "cell_type": "markdown",
      "source": [
        "# Estacionariedade"
      ],
      "metadata": {
        "id": "ugPi0nnprpZk"
      }
    },
    {
      "cell_type": "markdown",
      "source": [
        "## Normalidade da Serie"
      ],
      "metadata": {
        "id": "SlPcvc_ksHsW"
      }
    },
    {
      "cell_type": "code",
      "source": [
        "import scipy.stats as stats"
      ],
      "metadata": {
        "id": "jb8hkvLtr75u"
      },
      "execution_count": 196,
      "outputs": []
    },
    {
      "cell_type": "code",
      "source": [
        "e, p = stats.shapiro(serie)\n",
        "print('Estatística de teste: {}'.format(e))\n",
        "print('p-valor: {}'.format(p))"
      ],
      "metadata": {
        "colab": {
          "base_uri": "https://localhost:8080/"
        },
        "id": "P02eLcKeqKSa",
        "outputId": "857fda50-27ab-4cfd-8c10-8605f0a48748"
      },
      "execution_count": 197,
      "outputs": [
        {
          "output_type": "stream",
          "name": "stdout",
          "text": [
            "Estatística de teste: 0.9519577090493235\n",
            "p-valor: 6.832415574230719e-05\n"
          ]
        }
      ]
    },
    {
      "cell_type": "markdown",
      "source": [
        "Como o p-valor é muito menor que o nível de significância comum de 0.05 (ou 5%), você rejeita a hipótese nula. Isso sugere que os dados da sua série temporal não seguem uma distribuição normal."
      ],
      "metadata": {
        "id": "Nc03Ny1hr_HX"
      }
    },
    {
      "cell_type": "code",
      "source": [
        "stats.probplot(serie, dist=\"norm\", plot=plt)\n",
        "plt.title(\"Normal QQ plot\")\n",
        "plt.show()"
      ],
      "metadata": {
        "colab": {
          "base_uri": "https://localhost:8080/",
          "height": 472
        },
        "id": "xTk4FXxusGdn",
        "outputId": "0ebd221f-c003-4512-d4a7-aa22afe52d9c"
      },
      "execution_count": 198,
      "outputs": [
        {
          "output_type": "display_data",
          "data": {
            "text/plain": [
              "<Figure size 640x480 with 1 Axes>"
            ],
            "image/png": "[encoded data removed]"
          },
          "metadata": {}
        }
      ]
    },
    {
      "cell_type": "markdown",
      "source": [
        "Distribuicao da Serie"
      ],
      "metadata": {
        "id": "jnDGiNyhsVWd"
      }
    },
    {
      "cell_type": "code",
      "source": [
        "import seaborn as sns\n",
        "sns.distplot(serie)"
      ],
      "metadata": {
        "colab": {
          "base_uri": "https://localhost:8080/",
          "height": 657
        },
        "id": "ZdTq8Mj7sVI1",
        "outputId": "91ba4979-1d9e-4fe7-fe79-eed51b80d8fb"
      },
      "execution_count": 199,
      "outputs": [
        {
          "output_type": "stream",
          "name": "stderr",
          "text": [
            "<ipython-input-199-f5be188b270d>:2: UserWarning: \n",
            "\n",
            "`distplot` is a deprecated function and will be removed in seaborn v0.14.0.\n",
            "\n",
            "Please adapt your code to use either `displot` (a figure-level function with\n",
            "similar flexibility) or `histplot` (an axes-level function for histograms).\n",
            "\n",
            "For a guide to updating your code to use the new functions, please see\n",
            "https://gist.github.com/mwaskom/de44147ed2974457ad6372750bbe5751\n",
            "\n",
            "  sns.distplot(serie)\n"
          ]
        },
        {
          "output_type": "execute_result",
          "data": {
            "text/plain": [
              "<Axes: xlabel='#Passengers', ylabel='Density'>"
            ]
          },
          "metadata": {},
          "execution_count": 199
        },
        {
          "output_type": "display_data",
          "data": {
            "text/plain": [
              "<Figure size 640x480 with 1 Axes>"
            ],
            "image/png": "[encoded data removed]"
          },
          "metadata": {}
        }
      ]
    },
    {
      "cell_type": "markdown",
      "source": [
        "## Teste Estacionariedade"
      ],
      "metadata": {
        "id": "Ftsmhu3nvXKP"
      }
    },
    {
      "cell_type": "code",
      "source": [
        "import statsmodels.tsa.stattools\n",
        "from statsmodels.tsa.stattools import adfuller, acf, pacf"
      ],
      "metadata": {
        "id": "Z25TVrq7sjLC"
      },
      "execution_count": 200,
      "outputs": []
    },
    {
      "cell_type": "markdown",
      "source": [
        "Teste KPSS (Kwiatkowski-Phillips-Schmidt-Shin)\n",
        "\n",
        "Ho = é estacionária: estatística do teste < valores críticos (P.valor>Snível de significância)\n",
        "\n",
        "H1 = não é estacionária: estatística do teste > valores crítico. (P.valor<nível de significância)"
      ],
      "metadata": {
        "id": "wH1dgdjctVT8"
      }
    },
    {
      "cell_type": "code",
      "source": [
        "import statsmodels.tsa.stattools\n",
        "kpss = statsmodels.tsa.stattools.kpss(serie)\n",
        "print('Estatítica do teste: {:.4f}'.format(kpss[0]))\n",
        "print('p_valor: {:.4f}'.format(kpss[1]))\n",
        "print('Valores Críticos:')\n",
        "for chave, valor in kpss[3].items():\n",
        "   print('{}: {:.4f}'.format(chave, valor))"
      ],
      "metadata": {
        "colab": {
          "base_uri": "https://localhost:8080/"
        },
        "id": "2x8uIyQNsr6w",
        "outputId": "58f82f81-96d4-446a-9f85-2af6536e4ceb"
      },
      "execution_count": 201,
      "outputs": [
        {
          "output_type": "stream",
          "name": "stdout",
          "text": [
            "Estatítica do teste: 1.6513\n",
            "p_valor: 0.0100\n",
            "Valores Críticos:\n",
            "10%: 0.3470\n",
            "5%: 0.4630\n",
            "2.5%: 0.5740\n",
            "1%: 0.7390\n"
          ]
        },
        {
          "output_type": "stream",
          "name": "stderr",
          "text": [
            "<ipython-input-201-32ed56d38182>:2: InterpolationWarning: The test statistic is outside of the range of p-values available in the\n",
            "look-up table. The actual p-value is smaller than the p-value returned.\n",
            "\n",
            "  kpss = statsmodels.tsa.stattools.kpss(serie)\n"
          ]
        }
      ]
    },
    {
      "cell_type": "markdown",
      "source": [
        "Como 1.65 é maior que os valores criticos, temos que a serie original não é estacionaria."
      ],
      "metadata": {
        "id": "B5lqYONxtXmR"
      }
    },
    {
      "cell_type": "markdown",
      "source": [
        "Teste de Dickey-Fuller Aumentado\n",
        "\n",
        "H0 = não é estacionária:  p.valor > nível significancia\n",
        "\n",
        "H1 = é estacionária:  p.valor < nível significancia"
      ],
      "metadata": {
        "id": "6FuAAdhEssK3"
      }
    },
    {
      "cell_type": "code",
      "source": [
        "# Teste de Dickey-Fuller Aumentado\n",
        "result = adfuller(serie)\n",
        "print(f\"ADF Statistic: {result[0]}\")\n",
        "print(f\"p-value: {result[1]}\")"
      ],
      "metadata": {
        "colab": {
          "base_uri": "https://localhost:8080/"
        },
        "id": "KRRu2zA3ss0H",
        "outputId": "260aa219-e082-4128-c890-15c73085bba4"
      },
      "execution_count": 202,
      "outputs": [
        {
          "output_type": "stream",
          "name": "stdout",
          "text": [
            "ADF Statistic: 0.8153688792060498\n",
            "p-value: 0.991880243437641\n"
          ]
        }
      ]
    },
    {
      "cell_type": "markdown",
      "source": [
        "Logo, não rejeitamos H0 e concluimos que a serie original é nao estacionaria, no teste ADF.\n",
        "\n",
        "Ambos os teste concluiram que a serie original, é não estacionaria, portanto iremos prosseguir para transformações na serie.\n"
      ],
      "metadata": {
        "id": "cORH4gVwtoYT"
      }
    },
    {
      "cell_type": "markdown",
      "source": [
        "plot_acf(serie3, lags=20)\n",
        "plt.show()"
      ],
      "metadata": {
        "id": "hjoJu-zavbYs"
      }
    },
    {
      "cell_type": "markdown",
      "source": [
        "# Autocorrelação e Autocorrelação Parcial"
      ],
      "metadata": {
        "id": "hdw_UEQKvvux"
      }
    },
    {
      "cell_type": "markdown",
      "source": [
        "Os gráficos de Autocorrelação (ACF) e Autocorrelação Parcial (PACF) são úteis para identificar a estrutura de autocorrelação de uma série temporal."
      ],
      "metadata": {
        "id": "Jqp0C1cjvtvM"
      }
    },
    {
      "cell_type": "code",
      "source": [
        "from statsmodels.graphics.tsaplots import plot_acf, plot_pacf"
      ],
      "metadata": {
        "id": "cUp84wiEveyS"
      },
      "execution_count": 203,
      "outputs": []
    },
    {
      "cell_type": "code",
      "source": [
        "plot_acf(serie, lags=20)\n",
        "plt.show()\n",
        "plot_pacf(serie, lags=20)\n",
        "plt.show()"
      ],
      "metadata": {
        "colab": {
          "base_uri": "https://localhost:8080/",
          "height": 887
        },
        "id": "WOAq2Boatn4C",
        "outputId": "93251594-60a3-4bf8-86d6-d3dfad68ebf2"
      },
      "execution_count": 204,
      "outputs": [
        {
          "output_type": "display_data",
          "data": {
            "text/plain": [
              "<Figure size 640x480 with 1 Axes>"
            ],
            "image/png": "[encoded data removed]"
          },
          "metadata": {}
        },
        {
          "output_type": "display_data",
          "data": {
            "text/plain": [
              "<Figure size 640x480 with 1 Axes>"
            ],
            "image/png": "[encoded data removed]"
          },
          "metadata": {}
        }
      ]
    },
    {
      "cell_type": "markdown",
      "source": [
        "# Diferenciação"
      ],
      "metadata": {
        "id": "UWE7EYnSv6Cm"
      }
    },
    {
      "cell_type": "code",
      "source": [
        "serie_diferenciada = serie.diff()\n",
        "serie_diferenciada"
      ],
      "metadata": {
        "colab": {
          "base_uri": "https://localhost:8080/",
          "height": 490
        },
        "id": "abmWKnJ0v6aX",
        "outputId": "95d0b7de-19f3-46d3-c9fb-600f914ddb89"
      },
      "execution_count": 205,
      "outputs": [
        {
          "output_type": "execute_result",
          "data": {
            "text/plain": [
              "Month\n",
              "1949-01-01     NaN\n",
              "1949-02-01     6.0\n",
              "1949-03-01    14.0\n",
              "1949-04-01    -3.0\n",
              "1949-05-01    -8.0\n",
              "              ... \n",
              "1960-08-01   -16.0\n",
              "1960-09-01   -98.0\n",
              "1960-10-01   -47.0\n",
              "1960-11-01   -71.0\n",
              "1960-12-01    42.0\n",
              "Name: #Passengers, Length: 144, dtype: float64"
            ],
            "text/html": [
              "<div>\n",
              "<style scoped>\n",
              "    .dataframe tbody tr th:only-of-type {\n",
              "        vertical-align: middle;\n",
              "    }\n",
              "\n",
              "    .dataframe tbody tr th {\n",
              "        vertical-align: top;\n",
              "    }\n",
              "\n",
              "    .dataframe thead th {\n",
              "        text-align: right;\n",
              "    }\n",
              "</style>\n",
              "<table border=\"1\" class=\"dataframe\">\n",
              "  <thead>\n",
              "    <tr style=\"text-align: right;\">\n",
              "      <th></th>\n",
              "      <th>#Passengers</th>\n",
              "    </tr>\n",
              "    <tr>\n",
              "      <th>Month</th>\n",
              "      <th></th>\n",
              "    </tr>\n",
              "  </thead>\n",
              "  <tbody>\n",
              "    <tr>\n",
              "      <th>1949-01-01</th>\n",
              "      <td>NaN</td>\n",
              "    </tr>\n",
              "    <tr>\n",
              "      <th>1949-02-01</th>\n",
              "      <td>6.0</td>\n",
              "    </tr>\n",
              "    <tr>\n",
              "      <th>1949-03-01</th>\n",
              "      <td>14.0</td>\n",
              "    </tr>\n",
              "    <tr>\n",
              "      <th>1949-04-01</th>\n",
              "      <td>-3.0</td>\n",
              "    </tr>\n",
              "    <tr>\n",
              "      <th>1949-05-01</th>\n",
              "      <td>-8.0</td>\n",
              "    </tr>\n",
              "    <tr>\n",
              "      <th>...</th>\n",
              "      <td>...</td>\n",
              "    </tr>\n",
              "    <tr>\n",
              "      <th>1960-08-01</th>\n",
              "      <td>-16.0</td>\n",
              "    </tr>\n",
              "    <tr>\n",
              "      <th>1960-09-01</th>\n",
              "      <td>-98.0</td>\n",
              "    </tr>\n",
              "    <tr>\n",
              "      <th>1960-10-01</th>\n",
              "      <td>-47.0</td>\n",
              "    </tr>\n",
              "    <tr>\n",
              "      <th>1960-11-01</th>\n",
              "      <td>-71.0</td>\n",
              "    </tr>\n",
              "    <tr>\n",
              "      <th>1960-12-01</th>\n",
              "      <td>42.0</td>\n",
              "    </tr>\n",
              "  </tbody>\n",
              "</table>\n",
              "<p>144 rows × 1 columns</p>\n",
              "</div><br><label><b>dtype:</b> float64</label>"
            ]
          },
          "metadata": {},
          "execution_count": 205
        }
      ]
    },
    {
      "cell_type": "code",
      "source": [
        "serie_diferenciada.plot()\n",
        "plt.show()"
      ],
      "metadata": {
        "colab": {
          "base_uri": "https://localhost:8080/",
          "height": 449
        },
        "id": "3k89CxRqwBtl",
        "outputId": "668bcc85-38ca-4f9f-b611-7aada39ef446"
      },
      "execution_count": 206,
      "outputs": [
        {
          "output_type": "display_data",
          "data": {
            "text/plain": [
              "<Figure size 640x480 with 1 Axes>"
            ],
            "image/png": "[encoded data removed]"
          },
          "metadata": {}
        }
      ]
    },
    {
      "cell_type": "markdown",
      "source": [
        "# Refazendo Teste de Estacionariedade"
      ],
      "metadata": {
        "id": "rHQh7zIcwKfi"
      }
    },
    {
      "cell_type": "code",
      "source": [
        "serie_diferenciada.head()"
      ],
      "metadata": {
        "colab": {
          "base_uri": "https://localhost:8080/",
          "height": 272
        },
        "id": "eomBSFpywKMz",
        "outputId": "c577e7a1-8f6f-4358-d33c-1fe35c6cd886"
      },
      "execution_count": 207,
      "outputs": [
        {
          "output_type": "execute_result",
          "data": {
            "text/plain": [
              "Month\n",
              "1949-01-01     NaN\n",
              "1949-02-01     6.0\n",
              "1949-03-01    14.0\n",
              "1949-04-01    -3.0\n",
              "1949-05-01    -8.0\n",
              "Name: #Passengers, dtype: float64"
            ],
            "text/html": [
              "<div>\n",
              "<style scoped>\n",
              "    .dataframe tbody tr th:only-of-type {\n",
              "        vertical-align: middle;\n",
              "    }\n",
              "\n",
              "    .dataframe tbody tr th {\n",
              "        vertical-align: top;\n",
              "    }\n",
              "\n",
              "    .dataframe thead th {\n",
              "        text-align: right;\n",
              "    }\n",
              "</style>\n",
              "<table border=\"1\" class=\"dataframe\">\n",
              "  <thead>\n",
              "    <tr style=\"text-align: right;\">\n",
              "      <th></th>\n",
              "      <th>#Passengers</th>\n",
              "    </tr>\n",
              "    <tr>\n",
              "      <th>Month</th>\n",
              "      <th></th>\n",
              "    </tr>\n",
              "  </thead>\n",
              "  <tbody>\n",
              "    <tr>\n",
              "      <th>1949-01-01</th>\n",
              "      <td>NaN</td>\n",
              "    </tr>\n",
              "    <tr>\n",
              "      <th>1949-02-01</th>\n",
              "      <td>6.0</td>\n",
              "    </tr>\n",
              "    <tr>\n",
              "      <th>1949-03-01</th>\n",
              "      <td>14.0</td>\n",
              "    </tr>\n",
              "    <tr>\n",
              "      <th>1949-04-01</th>\n",
              "      <td>-3.0</td>\n",
              "    </tr>\n",
              "    <tr>\n",
              "      <th>1949-05-01</th>\n",
              "      <td>-8.0</td>\n",
              "    </tr>\n",
              "  </tbody>\n",
              "</table>\n",
              "</div><br><label><b>dtype:</b> float64</label>"
            ]
          },
          "metadata": {},
          "execution_count": 207
        }
      ]
    },
    {
      "cell_type": "markdown",
      "source": [
        "Observe que possui o primeiro valor \"Nan\", devido a diferenciação, iremos remover para poder continuar nos testes."
      ],
      "metadata": {
        "id": "VegTgGLawZTR"
      }
    },
    {
      "cell_type": "code",
      "source": [
        "serie_diferenciada = serie_diferenciada.drop(index = serie_diferenciada.index[0])\n",
        "serie_diferenciada.head()"
      ],
      "metadata": {
        "colab": {
          "base_uri": "https://localhost:8080/",
          "height": 272
        },
        "id": "DfHFdWjWwkeL",
        "outputId": "bb0a7494-8a71-43d8-e23c-6d846f05a85a"
      },
      "execution_count": 208,
      "outputs": [
        {
          "output_type": "execute_result",
          "data": {
            "text/plain": [
              "Month\n",
              "1949-02-01     6.0\n",
              "1949-03-01    14.0\n",
              "1949-04-01    -3.0\n",
              "1949-05-01    -8.0\n",
              "1949-06-01    14.0\n",
              "Name: #Passengers, dtype: float64"
            ],
            "text/html": [
              "<div>\n",
              "<style scoped>\n",
              "    .dataframe tbody tr th:only-of-type {\n",
              "        vertical-align: middle;\n",
              "    }\n",
              "\n",
              "    .dataframe tbody tr th {\n",
              "        vertical-align: top;\n",
              "    }\n",
              "\n",
              "    .dataframe thead th {\n",
              "        text-align: right;\n",
              "    }\n",
              "</style>\n",
              "<table border=\"1\" class=\"dataframe\">\n",
              "  <thead>\n",
              "    <tr style=\"text-align: right;\">\n",
              "      <th></th>\n",
              "      <th>#Passengers</th>\n",
              "    </tr>\n",
              "    <tr>\n",
              "      <th>Month</th>\n",
              "      <th></th>\n",
              "    </tr>\n",
              "  </thead>\n",
              "  <tbody>\n",
              "    <tr>\n",
              "      <th>1949-02-01</th>\n",
              "      <td>6.0</td>\n",
              "    </tr>\n",
              "    <tr>\n",
              "      <th>1949-03-01</th>\n",
              "      <td>14.0</td>\n",
              "    </tr>\n",
              "    <tr>\n",
              "      <th>1949-04-01</th>\n",
              "      <td>-3.0</td>\n",
              "    </tr>\n",
              "    <tr>\n",
              "      <th>1949-05-01</th>\n",
              "      <td>-8.0</td>\n",
              "    </tr>\n",
              "    <tr>\n",
              "      <th>1949-06-01</th>\n",
              "      <td>14.0</td>\n",
              "    </tr>\n",
              "  </tbody>\n",
              "</table>\n",
              "</div><br><label><b>dtype:</b> float64</label>"
            ]
          },
          "metadata": {},
          "execution_count": 208
        }
      ]
    },
    {
      "cell_type": "markdown",
      "source": [
        "Teste KPSS (Kwiatkowski-Phillips-Schmidt-Shin)\n",
        "\n",
        "Ho = é estacionária: estatística do teste < valores críticos (P.valor>Snível de significância)\n",
        "\n",
        "H1 = não é estacionária: estatística do teste > valores crítico. (P.valor<nível de significância)"
      ],
      "metadata": {
        "id": "hJxU1i2vws3B"
      }
    },
    {
      "cell_type": "code",
      "source": [
        "kpss = statsmodels.tsa.stattools.kpss(serie_diferenciada)\n",
        "print('Estatítica do teste: {:.4f}'.format(kpss[0]))\n",
        "print('p_valor: {:.4f}'.format(kpss[1]))\n",
        "print('Valores Críticos:')\n",
        "for chave, valor in kpss[3].items():\n",
        "   print('{}: {:.4f}'.format(chave, valor))"
      ],
      "metadata": {
        "colab": {
          "base_uri": "https://localhost:8080/"
        },
        "id": "PiSrvrKMwoOE",
        "outputId": "a7fc2414-9f7b-4ebb-cb0a-8e41a8ab0a7a"
      },
      "execution_count": 209,
      "outputs": [
        {
          "output_type": "stream",
          "name": "stdout",
          "text": [
            "Estatítica do teste: 0.0239\n",
            "p_valor: 0.1000\n",
            "Valores Críticos:\n",
            "10%: 0.3470\n",
            "5%: 0.4630\n",
            "2.5%: 0.5740\n",
            "1%: 0.7390\n"
          ]
        },
        {
          "output_type": "stream",
          "name": "stderr",
          "text": [
            "<ipython-input-209-ea2d104be05a>:1: InterpolationWarning: The test statistic is outside of the range of p-values available in the\n",
            "look-up table. The actual p-value is greater than the p-value returned.\n",
            "\n",
            "  kpss = statsmodels.tsa.stattools.kpss(serie_diferenciada)\n"
          ]
        }
      ]
    },
    {
      "cell_type": "markdown",
      "source": [
        "Teste de Dickey-Fuller Aumentado\n",
        "\n",
        "H0 = não é estacionária:  p.valor > nível significancia\n",
        "\n",
        "H1 = é estacionária:  p.valor < nível significancia"
      ],
      "metadata": {
        "id": "BdgITS_zwwvf"
      }
    },
    {
      "cell_type": "code",
      "source": [
        "# Teste de Dickey-Fuller Aumentado\n",
        "result = adfuller(serie_diferenciada)\n",
        "print(f\"ADF Statistic: {result[0]}\")\n",
        "print(f\"p-value: {result[1]}\")"
      ],
      "metadata": {
        "colab": {
          "base_uri": "https://localhost:8080/"
        },
        "id": "2S_bJpmiwwLn",
        "outputId": "568532cc-c367-49d4-b220-02b903efdedb"
      },
      "execution_count": 210,
      "outputs": [
        {
          "output_type": "stream",
          "name": "stdout",
          "text": [
            "ADF Statistic: -2.8292668241700047\n",
            "p-value: 0.05421329028382478\n"
          ]
        }
      ]
    },
    {
      "cell_type": "markdown",
      "source": [
        "# Conclusao Diferenciação\n",
        "\n",
        "Ambos os testes concluiram que a serie com a diferenciação é estacionaria. Iremos prosseguir para Previsão.\n"
      ],
      "metadata": {
        "id": "bD26gXR8xbsz"
      }
    },
    {
      "cell_type": "markdown",
      "source": [
        "# **REVERSÃO DA DIFERENCIAÇÃO**"
      ],
      "metadata": {
        "id": "28ueQdMkxnN5"
      }
    },
    {
      "cell_type": "markdown",
      "source": [
        "## Modelo"
      ],
      "metadata": {
        "id": "35Di_H2jx1jv"
      }
    },
    {
      "cell_type": "code",
      "source": [
        "pip install pmdarima"
      ],
      "metadata": {
        "colab": {
          "base_uri": "https://localhost:8080/"
        },
        "id": "hFT2S0tPxnd8",
        "outputId": "9287e1c5-fe56-49a2-e2ec-9abfa68de8a9"
      },
      "execution_count": 211,
      "outputs": [
        {
          "output_type": "stream",
          "name": "stdout",
          "text": [
            "Requirement already satisfied: pmdarima in /usr/local/lib/python3.10/dist-packages (2.0.4)\n",
            "Requirement already satisfied: joblib>=0.11 in /usr/local/lib/python3.10/dist-packages (from pmdarima) (1.4.2)\n",
            "Requirement already satisfied: Cython!=0.29.18,!=0.29.31,>=0.29 in /usr/local/lib/python3.10/dist-packages (from pmdarima) (3.0.11)\n",
            "Requirement already satisfied: numpy>=1.21.2 in /usr/local/lib/python3.10/dist-packages (from pmdarima) (1.26.4)\n",
            "Requirement already satisfied: pandas>=0.19 in /usr/local/lib/python3.10/dist-packages (from pmdarima) (2.1.4)\n",
            "Requirement already satisfied: scikit-learn>=0.22 in /usr/local/lib/python3.10/dist-packages (from pmdarima) (1.3.2)\n",
            "Requirement already satisfied: scipy>=1.3.2 in /usr/local/lib/python3.10/dist-packages (from pmdarima) (1.13.1)\n",
            "Requirement already satisfied: statsmodels>=0.13.2 in /usr/local/lib/python3.10/dist-packages (from pmdarima) (0.14.2)\n",
            "Requirement already satisfied: urllib3 in /usr/local/lib/python3.10/dist-packages (from pmdarima) (2.0.7)\n",
            "Requirement already satisfied: setuptools!=50.0.0,>=38.6.0 in /usr/local/lib/python3.10/dist-packages (from pmdarima) (71.0.4)\n",
            "Requirement already satisfied: packaging>=17.1 in /usr/local/lib/python3.10/dist-packages (from pmdarima) (24.1)\n",
            "Requirement already satisfied: python-dateutil>=2.8.2 in /usr/local/lib/python3.10/dist-packages (from pandas>=0.19->pmdarima) (2.8.2)\n",
            "Requirement already satisfied: pytz>=2020.1 in /usr/local/lib/python3.10/dist-packages (from pandas>=0.19->pmdarima) (2024.1)\n",
            "Requirement already satisfied: tzdata>=2022.1 in /usr/local/lib/python3.10/dist-packages (from pandas>=0.19->pmdarima) (2024.1)\n",
            "Requirement already satisfied: threadpoolctl>=2.0.0 in /usr/local/lib/python3.10/dist-packages (from scikit-learn>=0.22->pmdarima) (3.5.0)\n",
            "Requirement already satisfied: patsy>=0.5.6 in /usr/local/lib/python3.10/dist-packages (from statsmodels>=0.13.2->pmdarima) (0.5.6)\n",
            "Requirement already satisfied: six in /usr/local/lib/python3.10/dist-packages (from patsy>=0.5.6->statsmodels>=0.13.2->pmdarima) (1.16.0)\n"
          ]
        }
      ]
    },
    {
      "cell_type": "code",
      "source": [
        "from pmdarima.arima import auto_arima"
      ],
      "metadata": {
        "id": "fksFI71px1Ld"
      },
      "execution_count": 212,
      "outputs": []
    },
    {
      "cell_type": "code",
      "source": [
        "modelo_auto = auto_arima(serie_diferenciada, trace = True, stepwise = False, seasonal=True, max_p=8, max_q=8,\n",
        "                          max_P=3, max_Q=3, start_p=0, start_q=0, start_P=0, start_Q=0, m=6)"
      ],
      "metadata": {
        "colab": {
          "base_uri": "https://localhost:8080/"
        },
        "id": "HPBfQ5J3x5xP",
        "outputId": "78f86bd0-5170-4b3e-b4a3-71ccb0de747f"
      },
      "execution_count": 213,
      "outputs": [
        {
          "output_type": "stream",
          "name": "stdout",
          "text": [
            " ARIMA(0,0,0)(0,0,0)[6] intercept   : AIC=1415.278, Time=0.13 sec\n",
            " ARIMA(0,0,0)(0,0,1)[6] intercept   : AIC=1416.929, Time=0.46 sec\n",
            " ARIMA(0,0,0)(0,0,2)[6] intercept   : AIC=inf, Time=1.24 sec\n",
            " ARIMA(0,0,0)(0,0,3)[6] intercept   : AIC=inf, Time=7.20 sec\n",
            " ARIMA(0,0,0)(1,0,0)[6] intercept   : AIC=1416.265, Time=1.01 sec\n",
            " ARIMA(0,0,0)(1,0,1)[6] intercept   : AIC=1360.351, Time=0.64 sec\n",
            " ARIMA(0,0,0)(1,0,2)[6] intercept   : AIC=1276.747, Time=1.94 sec\n",
            " ARIMA(0,0,0)(1,0,3)[6] intercept   : AIC=1255.056, Time=11.37 sec\n",
            " ARIMA(0,0,0)(2,0,0)[6] intercept   : AIC=inf, Time=2.09 sec\n",
            " ARIMA(0,0,0)(2,0,1)[6] intercept   : AIC=1156.674, Time=2.54 sec\n",
            " ARIMA(0,0,0)(2,0,2)[6] intercept   : AIC=1156.780, Time=2.69 sec\n",
            " ARIMA(0,0,0)(2,0,3)[6] intercept   : AIC=1158.659, Time=9.47 sec\n",
            " ARIMA(0,0,0)(3,0,0)[6] intercept   : AIC=inf, Time=5.69 sec\n",
            " ARIMA(0,0,0)(3,0,1)[6] intercept   : AIC=1158.464, Time=1.34 sec\n",
            " ARIMA(0,0,0)(3,0,2)[6] intercept   : AIC=1158.731, Time=1.28 sec\n",
            " ARIMA(0,0,1)(0,0,0)[6] intercept   : AIC=1398.827, Time=0.13 sec\n",
            " ARIMA(0,0,1)(0,0,1)[6] intercept   : AIC=1400.319, Time=0.24 sec\n",
            " ARIMA(0,0,1)(0,0,2)[6] intercept   : AIC=1301.060, Time=1.58 sec\n",
            " ARIMA(0,0,1)(0,0,3)[6] intercept   : AIC=inf, Time=4.55 sec\n",
            " ARIMA(0,0,1)(1,0,0)[6] intercept   : AIC=1399.339, Time=0.17 sec\n",
            " ARIMA(0,0,1)(1,0,1)[6] intercept   : AIC=1347.927, Time=0.32 sec\n",
            " ARIMA(0,0,1)(1,0,2)[6] intercept   : AIC=1277.722, Time=0.96 sec\n",
            " ARIMA(0,0,1)(1,0,3)[6] intercept   : AIC=1254.124, Time=1.29 sec\n",
            " ARIMA(0,0,1)(2,0,0)[6] intercept   : AIC=1147.773, Time=0.45 sec\n",
            " ARIMA(0,0,1)(2,0,1)[6] intercept   : AIC=1149.766, Time=0.56 sec\n",
            " ARIMA(0,0,1)(2,0,2)[6] intercept   : AIC=1150.419, Time=0.82 sec\n",
            " ARIMA(0,0,1)(3,0,0)[6] intercept   : AIC=1149.768, Time=0.92 sec\n",
            " ARIMA(0,0,1)(3,0,1)[6] intercept   : AIC=1151.541, Time=0.98 sec\n",
            " ARIMA(0,0,2)(0,0,0)[6] intercept   : AIC=1398.386, Time=0.19 sec\n",
            " ARIMA(0,0,2)(0,0,1)[6] intercept   : AIC=1389.151, Time=0.34 sec\n",
            " ARIMA(0,0,2)(0,0,2)[6] intercept   : AIC=1302.995, Time=0.41 sec\n",
            " ARIMA(0,0,2)(0,0,3)[6] intercept   : AIC=inf, Time=1.33 sec\n",
            " ARIMA(0,0,2)(1,0,0)[6] intercept   : AIC=1377.582, Time=0.28 sec\n",
            " ARIMA(0,0,2)(1,0,1)[6] intercept   : AIC=1307.225, Time=0.54 sec\n",
            " ARIMA(0,0,2)(1,0,2)[6] intercept   : AIC=1246.995, Time=3.38 sec\n",
            " ARIMA(0,0,2)(2,0,0)[6] intercept   : AIC=1149.761, Time=1.69 sec\n",
            " ARIMA(0,0,2)(2,0,1)[6] intercept   : AIC=1151.749, Time=0.85 sec\n",
            " ARIMA(0,0,2)(3,0,0)[6] intercept   : AIC=1151.752, Time=0.97 sec\n",
            " ARIMA(0,0,3)(0,0,0)[6] intercept   : AIC=inf, Time=0.35 sec\n",
            " ARIMA(0,0,3)(0,0,1)[6] intercept   : AIC=inf, Time=0.65 sec\n",
            " ARIMA(0,0,3)(0,0,2)[6] intercept   : AIC=inf, Time=0.96 sec\n",
            " ARIMA(0,0,3)(1,0,0)[6] intercept   : AIC=inf, Time=0.25 sec\n",
            " ARIMA(0,0,3)(1,0,1)[6] intercept   : AIC=1302.513, Time=0.68 sec\n",
            " ARIMA(0,0,3)(2,0,0)[6] intercept   : AIC=1225.770, Time=0.49 sec\n",
            " ARIMA(0,0,4)(0,0,0)[6] intercept   : AIC=inf, Time=0.52 sec\n",
            " ARIMA(0,0,4)(0,0,1)[6] intercept   : AIC=inf, Time=1.00 sec\n",
            " ARIMA(0,0,4)(1,0,0)[6] intercept   : AIC=inf, Time=0.66 sec\n",
            " ARIMA(0,0,5)(0,0,0)[6] intercept   : AIC=1360.089, Time=0.91 sec\n",
            " ARIMA(1,0,0)(0,0,0)[6] intercept   : AIC=1403.473, Time=0.09 sec\n",
            " ARIMA(1,0,0)(0,0,1)[6] intercept   : AIC=1405.432, Time=0.19 sec\n",
            " ARIMA(1,0,0)(0,0,2)[6] intercept   : AIC=1301.700, Time=0.37 sec\n",
            " ARIMA(1,0,0)(0,0,3)[6] intercept   : AIC=inf, Time=1.30 sec\n",
            " ARIMA(1,0,0)(1,0,0)[6] intercept   : AIC=1405.356, Time=0.31 sec\n",
            " ARIMA(1,0,0)(1,0,1)[6] intercept   : AIC=1356.374, Time=1.70 sec\n",
            " ARIMA(1,0,0)(1,0,2)[6] intercept   : AIC=1278.211, Time=4.03 sec\n",
            " ARIMA(1,0,0)(1,0,3)[6] intercept   : AIC=1258.511, Time=1.30 sec\n",
            " ARIMA(1,0,0)(2,0,0)[6] intercept   : AIC=inf, Time=0.73 sec\n",
            " ARIMA(1,0,0)(2,0,1)[6] intercept   : AIC=1149.627, Time=0.67 sec\n",
            " ARIMA(1,0,0)(2,0,2)[6] intercept   : AIC=1150.420, Time=0.76 sec\n",
            " ARIMA(1,0,0)(3,0,0)[6] intercept   : AIC=inf, Time=1.37 sec\n",
            " ARIMA(1,0,0)(3,0,1)[6] intercept   : AIC=1151.561, Time=1.88 sec\n",
            " ARIMA(1,0,1)(0,0,0)[6] intercept   : AIC=1396.122, Time=0.21 sec\n",
            " ARIMA(1,0,1)(0,0,1)[6] intercept   : AIC=1397.760, Time=0.40 sec\n",
            " ARIMA(1,0,1)(0,0,2)[6] intercept   : AIC=1303.046, Time=0.57 sec\n",
            " ARIMA(1,0,1)(0,0,3)[6] intercept   : AIC=inf, Time=1.41 sec\n",
            " ARIMA(1,0,1)(1,0,0)[6] intercept   : AIC=1396.993, Time=0.34 sec\n",
            " ARIMA(1,0,1)(1,0,1)[6] intercept   : AIC=1344.659, Time=1.63 sec\n",
            " ARIMA(1,0,1)(1,0,2)[6] intercept   : AIC=1272.520, Time=4.41 sec\n",
            " ARIMA(1,0,1)(2,0,0)[6] intercept   : AIC=inf, Time=1.00 sec\n",
            " ARIMA(1,0,1)(2,0,1)[6] intercept   : AIC=inf, Time=0.95 sec\n",
            " ARIMA(1,0,1)(3,0,0)[6] intercept   : AIC=inf, Time=1.70 sec\n",
            " ARIMA(1,0,2)(0,0,0)[6] intercept   : AIC=inf, Time=0.21 sec\n",
            " ARIMA(1,0,2)(0,0,1)[6] intercept   : AIC=inf, Time=0.45 sec\n",
            " ARIMA(1,0,2)(0,0,2)[6] intercept   : AIC=inf, Time=1.05 sec\n",
            " ARIMA(1,0,2)(1,0,0)[6] intercept   : AIC=inf, Time=0.32 sec\n",
            " ARIMA(1,0,2)(1,0,1)[6] intercept   : AIC=1304.017, Time=0.88 sec\n",
            " ARIMA(1,0,2)(2,0,0)[6] intercept   : AIC=inf, Time=1.26 sec\n",
            " ARIMA(1,0,3)(0,0,0)[6] intercept   : AIC=inf, Time=0.50 sec\n",
            " ARIMA(1,0,3)(0,0,1)[6] intercept   : AIC=inf, Time=0.82 sec\n",
            " ARIMA(1,0,3)(1,0,0)[6] intercept   : AIC=inf, Time=0.73 sec\n",
            " ARIMA(1,0,4)(0,0,0)[6] intercept   : AIC=1374.305, Time=3.35 sec\n",
            " ARIMA(2,0,0)(0,0,0)[6] intercept   : AIC=1397.975, Time=0.25 sec\n",
            " ARIMA(2,0,0)(0,0,1)[6] intercept   : AIC=1398.406, Time=1.31 sec\n",
            " ARIMA(2,0,0)(0,0,2)[6] intercept   : AIC=1301.482, Time=1.13 sec\n",
            " ARIMA(2,0,0)(0,0,3)[6] intercept   : AIC=inf, Time=1.42 sec\n",
            " ARIMA(2,0,0)(1,0,0)[6] intercept   : AIC=1394.094, Time=0.29 sec\n",
            " ARIMA(2,0,0)(1,0,1)[6] intercept   : AIC=1332.558, Time=0.58 sec\n",
            " ARIMA(2,0,0)(1,0,2)[6] intercept   : AIC=1271.182, Time=1.18 sec\n",
            " ARIMA(2,0,0)(2,0,0)[6] intercept   : AIC=inf, Time=0.92 sec\n",
            " ARIMA(2,0,0)(2,0,1)[6] intercept   : AIC=1151.605, Time=1.02 sec\n"
          ]
        },
        {
          "output_type": "stream",
          "name": "stderr",
          "text": [
            "/usr/local/lib/python3.10/dist-packages/pmdarima/arima/_auto_solvers.py:524: ModelFitWarning: Error fitting  ARIMA(2,0,0)(3,0,0)[6] intercept (if you do not want to see these warnings, run with error_action=\"ignore\").\n",
            "Traceback:\n",
            "Traceback (most recent call last):\n",
            "  File \"/usr/local/lib/python3.10/dist-packages/pmdarima/arima/_auto_solvers.py\", line 508, in _fit_candidate_model\n",
            "    fit.fit(y, X=X, **fit_params)\n",
            "  File \"/usr/local/lib/python3.10/dist-packages/pmdarima/arima/arima.py\", line 603, in fit\n",
            "    self._fit(y, X, **fit_args)\n",
            "  File \"/usr/local/lib/python3.10/dist-packages/pmdarima/arima/arima.py\", line 524, in _fit\n",
            "    fit, self.arima_res_ = _fit_wrapper()\n",
            "  File \"/usr/local/lib/python3.10/dist-packages/pmdarima/arima/arima.py\", line 510, in _fit_wrapper\n",
            "    fitted = arima.fit(\n",
            "  File \"/usr/local/lib/python3.10/dist-packages/statsmodels/tsa/statespace/mlemodel.py\", line 703, in fit\n",
            "    mlefit = super().fit(start_params, method=method,\n",
            "  File \"/usr/local/lib/python3.10/dist-packages/statsmodels/base/model.py\", line 566, in fit\n",
            "    xopt, retvals, optim_settings = optimizer._fit(f, score, start_params,\n",
            "  File \"/usr/local/lib/python3.10/dist-packages/statsmodels/base/optimizer.py\", line 243, in _fit\n",
            "    xopt, retvals = func(objective, gradient, start_params, fargs, kwargs,\n",
            "  File \"/usr/local/lib/python3.10/dist-packages/statsmodels/base/optimizer.py\", line 660, in _fit_lbfgs\n",
            "    retvals = optimize.fmin_l_bfgs_b(func, start_params, maxiter=maxiter,\n",
            "  File \"/usr/local/lib/python3.10/dist-packages/scipy/optimize/_lbfgsb_py.py\", line 237, in fmin_l_bfgs_b\n",
            "    res = _minimize_lbfgsb(fun, x0, args=args, jac=jac, bounds=bounds,\n",
            "  File \"/usr/local/lib/python3.10/dist-packages/scipy/optimize/_lbfgsb_py.py\", line 407, in _minimize_lbfgsb\n",
            "    f, g = func_and_grad(x)\n",
            "  File \"/usr/local/lib/python3.10/dist-packages/scipy/optimize/_differentiable_functions.py\", line 296, in fun_and_grad\n",
            "    self._update_fun()\n",
            "  File \"/usr/local/lib/python3.10/dist-packages/scipy/optimize/_differentiable_functions.py\", line 262, in _update_fun\n",
            "    self._update_fun_impl()\n",
            "  File \"/usr/local/lib/python3.10/dist-packages/scipy/optimize/_differentiable_functions.py\", line 163, in update_fun\n",
            "    self.f = fun_wrapped(self.x)\n",
            "  File \"/usr/local/lib/python3.10/dist-packages/scipy/optimize/_differentiable_functions.py\", line 145, in fun_wrapped\n",
            "    fx = fun(np.copy(x), *args)\n",
            "  File \"/usr/local/lib/python3.10/dist-packages/statsmodels/base/model.py\", line 534, in f\n",
            "    return -self.loglike(params, *args) / nobs\n",
            "  File \"/usr/local/lib/python3.10/dist-packages/statsmodels/tsa/statespace/mlemodel.py\", line 938, in loglike\n",
            "    loglike = self.ssm.loglike(complex_step=complex_step, **kwargs)\n",
            "  File \"/usr/local/lib/python3.10/dist-packages/statsmodels/tsa/statespace/kalman_filter.py\", line 1001, in loglike\n",
            "    kfilter = self._filter(**kwargs)\n",
            "  File \"/usr/local/lib/python3.10/dist-packages/statsmodels/tsa/statespace/kalman_filter.py\", line 921, in _filter\n",
            "    self._initialize_state(prefix=prefix, complex_step=complex_step)\n",
            "  File \"/usr/local/lib/python3.10/dist-packages/statsmodels/tsa/statespace/representation.py\", line 1058, in _initialize_state\n",
            "    self._statespaces[prefix].initialize(self.initialization,\n",
            "  File \"statsmodels/tsa/statespace/_representation.pyx\", line 1362, in statsmodels.tsa.statespace._representation.dStatespace.initialize\n",
            "  File \"statsmodels/tsa/statespace/_initialization.pyx\", line 288, in statsmodels.tsa.statespace._initialization.dInitialization.initialize\n",
            "  File \"statsmodels/tsa/statespace/_initialization.pyx\", line 406, in statsmodels.tsa.statespace._initialization.dInitialization.initialize_stationary_stationary_cov\n",
            "  File \"statsmodels/tsa/statespace/_tools.pyx\", line 1548, in statsmodels.tsa.statespace._tools._dsolve_discrete_lyapunov\n",
            "numpy.linalg.LinAlgError: LU decomposition error.\n",
            "\n",
            "  warnings.warn(warning_str, ModelFitWarning)\n"
          ]
        },
        {
          "output_type": "stream",
          "name": "stdout",
          "text": [
            " ARIMA(2,0,0)(3,0,0)[6] intercept   : AIC=inf, Time=nan sec\n",
            " ARIMA(2,0,1)(0,0,0)[6] intercept   : AIC=inf, Time=0.39 sec\n",
            " ARIMA(2,0,1)(0,0,1)[6] intercept   : AIC=inf, Time=2.00 sec\n",
            " ARIMA(2,0,1)(0,0,2)[6] intercept   : AIC=inf, Time=6.03 sec\n",
            " ARIMA(2,0,1)(1,0,0)[6] intercept   : AIC=1360.311, Time=2.55 sec\n",
            " ARIMA(2,0,1)(1,0,1)[6] intercept   : AIC=1289.000, Time=0.86 sec\n",
            " ARIMA(2,0,1)(2,0,0)[6] intercept   : AIC=inf, Time=1.02 sec\n",
            " ARIMA(2,0,2)(0,0,0)[6] intercept   : AIC=inf, Time=0.53 sec\n",
            " ARIMA(2,0,2)(0,0,1)[6] intercept   : AIC=1343.777, Time=0.85 sec\n",
            " ARIMA(2,0,2)(1,0,0)[6] intercept   : AIC=1323.716, Time=0.86 sec\n",
            " ARIMA(2,0,3)(0,0,0)[6] intercept   : AIC=inf, Time=0.56 sec\n",
            " ARIMA(3,0,0)(0,0,0)[6] intercept   : AIC=1396.151, Time=0.13 sec\n",
            " ARIMA(3,0,0)(0,0,1)[6] intercept   : AIC=1396.043, Time=0.23 sec\n",
            " ARIMA(3,0,0)(0,0,2)[6] intercept   : AIC=1294.529, Time=0.59 sec\n",
            " ARIMA(3,0,0)(1,0,0)[6] intercept   : AIC=1389.229, Time=0.47 sec\n",
            " ARIMA(3,0,0)(1,0,1)[6] intercept   : AIC=1321.276, Time=0.77 sec\n",
            " ARIMA(3,0,0)(2,0,0)[6] intercept   : AIC=inf, Time=1.49 sec\n",
            " ARIMA(3,0,1)(0,0,0)[6] intercept   : AIC=inf, Time=0.29 sec\n",
            " ARIMA(3,0,1)(0,0,1)[6] intercept   : AIC=inf, Time=0.47 sec\n",
            " ARIMA(3,0,1)(1,0,0)[6] intercept   : AIC=1361.553, Time=0.80 sec\n",
            " ARIMA(3,0,2)(0,0,0)[6] intercept   : AIC=inf, Time=1.47 sec\n",
            " ARIMA(4,0,0)(0,0,0)[6] intercept   : AIC=1388.510, Time=1.09 sec\n",
            " ARIMA(4,0,0)(0,0,1)[6] intercept   : AIC=1380.993, Time=2.32 sec\n",
            " ARIMA(4,0,0)(1,0,0)[6] intercept   : AIC=1261.149, Time=2.13 sec\n",
            " ARIMA(4,0,1)(0,0,0)[6] intercept   : AIC=1384.812, Time=0.45 sec\n",
            " ARIMA(5,0,0)(0,0,0)[6] intercept   : AIC=1390.495, Time=0.23 sec\n",
            "\n",
            "Best model:  ARIMA(0,0,1)(2,0,0)[6] intercept\n",
            "Total fit time: 152.826 seconds\n"
          ]
        }
      ]
    },
    {
      "cell_type": "code",
      "source": [
        "resultado_auto = modelo_auto.fit(serie_diferenciada)\n",
        "print(resultado_auto.summary())"
      ],
      "metadata": {
        "colab": {
          "base_uri": "https://localhost:8080/"
        },
        "id": "oCsenjyqx9AV",
        "outputId": "46bb419b-8425-4ad7-d451-ce5bf57c35f2"
      },
      "execution_count": 214,
      "outputs": [
        {
          "output_type": "stream",
          "name": "stdout",
          "text": [
            "                                     SARIMAX Results                                      \n",
            "==========================================================================================\n",
            "Dep. Variable:                                  y   No. Observations:                  143\n",
            "Model:             SARIMAX(0, 0, 1)x(2, 0, [], 6)   Log Likelihood                -568.886\n",
            "Date:                            Fri, 16 Aug 2024   AIC                           1147.773\n",
            "Time:                                    16:33:10   BIC                           1162.587\n",
            "Sample:                                02-01-1949   HQIC                          1153.793\n",
            "                                     - 12-01-1960                                         \n",
            "Covariance Type:                              opg                                         \n",
            "==============================================================================\n",
            "                 coef    std err          z      P>|z|      [0.025      0.975]\n",
            "------------------------------------------------------------------------------\n",
            "intercept      0.0835      0.632      0.132      0.895      -1.156       1.323\n",
            "ma.L1         -0.2671      0.072     -3.726      0.000      -0.408      -0.127\n",
            "ar.S.L6       -0.0093      0.026     -0.362      0.718      -0.059       0.041\n",
            "ar.S.L12       0.9574      0.020     47.270      0.000       0.918       0.997\n",
            "sigma2       135.3157     14.598      9.270      0.000     106.705     163.926\n",
            "===================================================================================\n",
            "Ljung-Box (L1) (Q):                   0.00   Jarque-Bera (JB):                 8.28\n",
            "Prob(Q):                              1.00   Prob(JB):                         0.02\n",
            "Heteroskedasticity (H):               3.78   Skew:                             0.08\n",
            "Prob(H) (two-sided):                  0.00   Kurtosis:                         4.17\n",
            "===================================================================================\n",
            "\n",
            "Warnings:\n",
            "[1] Covariance matrix calculated using the outer product of gradients (complex-step).\n"
          ]
        }
      ]
    },
    {
      "cell_type": "markdown",
      "source": [
        "# Resumo do Modelo\n",
        "Modelo Ajustado: SARIMAX(0, 0, 3)x(2, 0, [], 6)\n",
        "Observações: 141\n",
        "Parâmetros Principais:\n",
        "MA (Moving Average): Significativo para os lags 1 e 3.\n",
        "AR Sazonal: Significativo para o lag 12.\n",
        "Métricas de Ajuste\n",
        "Log Likelihood: -558.993\n",
        "AIC: 1131.987\n",
        "BIC: 1152.628\n",
        "HQIC: 1140.375\n",
        "Essas métricas ajudam a avaliar a qualidade do ajuste do modelo, com valores menores indicando um melhor ajuste.\n",
        "\n",
        "Diagnóstico dos Resíduos\n",
        "Ljung-Box (L1): p-valor de 0.66 sugere que o modelo não apresenta autocorrelação residual significativa.\n",
        "Jarque-Bera: p-valor de 0.08 indica que os resíduos seguem aproximadamente uma distribuição normal.\n",
        "Heterocedasticidade: p-valor <0.001 sugere que há heterocedasticidade nos resíduos, indicando variações na variância dos erros."
      ],
      "metadata": {
        "id": "P9AdDkcvzhxX"
      }
    },
    {
      "cell_type": "markdown",
      "source": [
        "O modelo SARIMAX se ajusta bem aos dados, com vários parâmetros significativos e boa capacidade de ajuste. No entanto, há sinais de heterocedasticidade que podem exigir ajustes adicionais. A avaliação diagnóstica é promissora, mas o modelo pode ser aprimorado para garantir previsões ainda mais robustas."
      ],
      "metadata": {
        "id": "xlAs3ZnWzs7G"
      }
    },
    {
      "cell_type": "markdown",
      "source": [
        "## Previsao Proximo Ano"
      ],
      "metadata": {
        "id": "aCNgIl_3x_XC"
      }
    },
    {
      "cell_type": "code",
      "source": [
        "previsao_auto = resultado_auto.predict(n_periods=12)\n",
        "previsao_auto"
      ],
      "metadata": {
        "colab": {
          "base_uri": "https://localhost:8080/",
          "height": 460
        },
        "id": "InMpfeeax_rF",
        "outputId": "fa087f20-5475-4ead-e492-ec6b10e2347c"
      },
      "execution_count": 215,
      "outputs": [
        {
          "output_type": "execute_result",
          "data": {
            "text/plain": [
              "1961-01-01    12.329102\n",
              "1961-02-01   -24.659991\n",
              "1961-03-01    27.797703\n",
              "1961-04-01    40.728523\n",
              "1961-05-01    11.272266\n",
              "1961-06-01    60.008967\n",
              "1961-07-01    83.260756\n",
              "1961-08-01   -15.006045\n",
              "1961-09-01   -93.996540\n",
              "1961-10-01   -45.290290\n",
              "1961-11-01   -67.994396\n",
              "1961-12-01    39.737320\n",
              "Freq: MS, dtype: float64"
            ],
            "text/html": [
              "<div>\n",
              "<style scoped>\n",
              "    .dataframe tbody tr th:only-of-type {\n",
              "        vertical-align: middle;\n",
              "    }\n",
              "\n",
              "    .dataframe tbody tr th {\n",
              "        vertical-align: top;\n",
              "    }\n",
              "\n",
              "    .dataframe thead th {\n",
              "        text-align: right;\n",
              "    }\n",
              "</style>\n",
              "<table border=\"1\" class=\"dataframe\">\n",
              "  <thead>\n",
              "    <tr style=\"text-align: right;\">\n",
              "      <th></th>\n",
              "      <th>0</th>\n",
              "    </tr>\n",
              "  </thead>\n",
              "  <tbody>\n",
              "    <tr>\n",
              "      <th>1961-01-01</th>\n",
              "      <td>12.329102</td>\n",
              "    </tr>\n",
              "    <tr>\n",
              "      <th>1961-02-01</th>\n",
              "      <td>-24.659991</td>\n",
              "    </tr>\n",
              "    <tr>\n",
              "      <th>1961-03-01</th>\n",
              "      <td>27.797703</td>\n",
              "    </tr>\n",
              "    <tr>\n",
              "      <th>1961-04-01</th>\n",
              "      <td>40.728523</td>\n",
              "    </tr>\n",
              "    <tr>\n",
              "      <th>1961-05-01</th>\n",
              "      <td>11.272266</td>\n",
              "    </tr>\n",
              "    <tr>\n",
              "      <th>1961-06-01</th>\n",
              "      <td>60.008967</td>\n",
              "    </tr>\n",
              "    <tr>\n",
              "      <th>1961-07-01</th>\n",
              "      <td>83.260756</td>\n",
              "    </tr>\n",
              "    <tr>\n",
              "      <th>1961-08-01</th>\n",
              "      <td>-15.006045</td>\n",
              "    </tr>\n",
              "    <tr>\n",
              "      <th>1961-09-01</th>\n",
              "      <td>-93.996540</td>\n",
              "    </tr>\n",
              "    <tr>\n",
              "      <th>1961-10-01</th>\n",
              "      <td>-45.290290</td>\n",
              "    </tr>\n",
              "    <tr>\n",
              "      <th>1961-11-01</th>\n",
              "      <td>-67.994396</td>\n",
              "    </tr>\n",
              "    <tr>\n",
              "      <th>1961-12-01</th>\n",
              "      <td>39.737320</td>\n",
              "    </tr>\n",
              "  </tbody>\n",
              "</table>\n",
              "</div><br><label><b>dtype:</b> float64</label>"
            ]
          },
          "metadata": {},
          "execution_count": 215
        }
      ]
    },
    {
      "cell_type": "markdown",
      "source": [
        "## Reversão"
      ],
      "metadata": {
        "id": "F90HxJdAyId2"
      }
    },
    {
      "cell_type": "code",
      "source": [
        "# Usando o último elemento da série não diferenciada e somando com o primeiro elemento da previsão\n",
        "s = serie[len(serie)-1]+previsao_auto[0]\n",
        "s"
      ],
      "metadata": {
        "colab": {
          "base_uri": "https://localhost:8080/"
        },
        "id": "RXstGTohyJjF",
        "outputId": "14689495-3f4a-4532-8bc8-7fd807f1ecff"
      },
      "execution_count": 216,
      "outputs": [
        {
          "output_type": "stream",
          "name": "stderr",
          "text": [
            "<ipython-input-216-942ef1f3a87b>:2: FutureWarning: Series.__getitem__ treating keys as positions is deprecated. In a future version, integer keys will always be treated as labels (consistent with DataFrame behavior). To access a value by position, use `ser.iloc[pos]`\n",
            "  s = serie[len(serie)-1]+previsao_auto[0]\n"
          ]
        },
        {
          "output_type": "execute_result",
          "data": {
            "text/plain": [
              "444.3291022848762"
            ]
          },
          "metadata": {},
          "execution_count": 216
        }
      ]
    },
    {
      "cell_type": "code",
      "source": [
        "c = 1\n",
        "previsao_revertida = [s]\n",
        "while c < len(previsao_auto):\n",
        "    s = s + previsao_auto[c]\n",
        "    previsao_revertida.append(s)\n",
        "    c = c + 1"
      ],
      "metadata": {
        "colab": {
          "base_uri": "https://localhost:8080/"
        },
        "id": "bo5oKH-KyKvR",
        "outputId": "54f748ac-bfa1-4ff6-def2-6c7c50dac515"
      },
      "execution_count": 217,
      "outputs": [
        {
          "output_type": "stream",
          "name": "stderr",
          "text": [
            "<ipython-input-217-73f13647c04d>:4: FutureWarning: Series.__getitem__ treating keys as positions is deprecated. In a future version, integer keys will always be treated as labels (consistent with DataFrame behavior). To access a value by position, use `ser.iloc[pos]`\n",
            "  s = s + previsao_auto[c]\n"
          ]
        }
      ]
    },
    {
      "cell_type": "code",
      "source": [
        "previsao_revertida = pd.DataFrame(previsao_revertida)\n",
        "previsao_revertida"
      ],
      "metadata": {
        "colab": {
          "base_uri": "https://localhost:8080/",
          "height": 426
        },
        "id": "szvkzpZpyMfr",
        "outputId": "1aebddc1-165f-4f9c-9ad7-12ae0ae7ee28"
      },
      "execution_count": 218,
      "outputs": [
        {
          "output_type": "execute_result",
          "data": {
            "text/plain": [
              "             0\n",
              "0   444.329102\n",
              "1   419.669111\n",
              "2   447.466814\n",
              "3   488.195337\n",
              "4   499.467603\n",
              "5   559.476571\n",
              "6   642.737327\n",
              "7   627.731282\n",
              "8   533.734742\n",
              "9   488.444452\n",
              "10  420.450056\n",
              "11  460.187376"
            ],
            "text/html": [
              "\n",
              "  <div id=\"df-94344e16-ff76-42b6-9c66-268c3400ceb0\" class=\"colab-df-container\">\n",
              "    <div>\n",
              "<style scoped>\n",
              "    .dataframe tbody tr th:only-of-type {\n",
              "        vertical-align: middle;\n",
              "    }\n",
              "\n",
              "    .dataframe tbody tr th {\n",
              "        vertical-align: top;\n",
              "    }\n",
              "\n",
              "    .dataframe thead th {\n",
              "        text-align: right;\n",
              "    }\n",
              "</style>\n",
              "<table border=\"1\" class=\"dataframe\">\n",
              "  <thead>\n",
              "    <tr style=\"text-align: right;\">\n",
              "      <th></th>\n",
              "      <th>0</th>\n",
              "    </tr>\n",
              "  </thead>\n",
              "  <tbody>\n",
              "    <tr>\n",
              "      <th>0</th>\n",
              "      <td>444.329102</td>\n",
              "    </tr>\n",
              "    <tr>\n",
              "      <th>1</th>\n",
              "      <td>419.669111</td>\n",
              "    </tr>\n",
              "    <tr>\n",
              "      <th>2</th>\n",
              "      <td>447.466814</td>\n",
              "    </tr>\n",
              "    <tr>\n",
              "      <th>3</th>\n",
              "      <td>488.195337</td>\n",
              "    </tr>\n",
              "    <tr>\n",
              "      <th>4</th>\n",
              "      <td>499.467603</td>\n",
              "    </tr>\n",
              "    <tr>\n",
              "      <th>5</th>\n",
              "      <td>559.476571</td>\n",
              "    </tr>\n",
              "    <tr>\n",
              "      <th>6</th>\n",
              "      <td>642.737327</td>\n",
              "    </tr>\n",
              "    <tr>\n",
              "      <th>7</th>\n",
              "      <td>627.731282</td>\n",
              "    </tr>\n",
              "    <tr>\n",
              "      <th>8</th>\n",
              "      <td>533.734742</td>\n",
              "    </tr>\n",
              "    <tr>\n",
              "      <th>9</th>\n",
              "      <td>488.444452</td>\n",
              "    </tr>\n",
              "    <tr>\n",
              "      <th>10</th>\n",
              "      <td>420.450056</td>\n",
              "    </tr>\n",
              "    <tr>\n",
              "      <th>11</th>\n",
              "      <td>460.187376</td>\n",
              "    </tr>\n",
              "  </tbody>\n",
              "</table>\n",
              "</div>\n",
              "    <div class=\"colab-df-buttons\">\n",
              "\n",
              "  <div class=\"colab-df-container\">\n",
              "    <button class=\"colab-df-convert\" onclick=\"convertToInteractive('df-94344e16-ff76-42b6-9c66-268c3400ceb0')\"\n",
              "            title=\"Convert this dataframe to an interactive table.\"\n",
              "            style=\"display:none;\">\n",
              "\n",
              "  <svg xmlns=\"http://www.w3.org/2000/svg\" height=\"24px\" viewBox=\"0 -960 960 960\">\n",
              "    <path d=\"M120-120v-720h720v720H120Zm60-500h600v-160H180v160Zm220 220h160v-160H400v160Zm0 220h160v-160H400v160ZM180-400h160v-160H180v160Zm440 0h160v-160H620v160ZM180-180h160v-160H180v160Zm440 0h160v-160H620v160Z\"/>\n",
              "  </svg>\n",
              "    </button>\n",
              "\n",
              "  <style>\n",
              "    .colab-df-container {\n",
              "      display:flex;\n",
              "      gap: 12px;\n",
              "    }\n",
              "\n",
              "    .colab-df-convert {\n",
              "      background-color: #E8F0FE;\n",
              "      border: none;\n",
              "      border-radius: 50%;\n",
              "      cursor: pointer;\n",
              "      display: none;\n",
              "      fill: #1967D2;\n",
              "      height: 32px;\n",
              "      padding: 0 0 0 0;\n",
              "      width: 32px;\n",
              "    }\n",
              "\n",
              "    .colab-df-convert:hover {\n",
              "      background-color: #E2EBFA;\n",
              "      box-shadow: 0px 1px 2px rgba(60, 64, 67, 0.3), 0px 1px 3px 1px rgba(60, 64, 67, 0.15);\n",
              "      fill: #174EA6;\n",
              "    }\n",
              "\n",
              "    .colab-df-buttons div {\n",
              "      margin-bottom: 4px;\n",
              "    }\n",
              "\n",
              "    [theme=dark] .colab-df-convert {\n",
              "      background-color: #3B4455;\n",
              "      fill: #D2E3FC;\n",
              "    }\n",
              "\n",
              "    [theme=dark] .colab-df-convert:hover {\n",
              "      background-color: #434B5C;\n",
              "      box-shadow: 0px 1px 3px 1px rgba(0, 0, 0, 0.15);\n",
              "      filter: drop-shadow(0px 1px 2px rgba(0, 0, 0, 0.3));\n",
              "      fill: #FFFFFF;\n",
              "    }\n",
              "  </style>\n",
              "\n",
              "    <script>\n",
              "      const buttonEl =\n",
              "        document.querySelector('#df-94344e16-ff76-42b6-9c66-268c3400ceb0 button.colab-df-convert');\n",
              "      buttonEl.style.display =\n",
              "        google.colab.kernel.accessAllowed ? 'block' : 'none';\n",
              "\n",
              "      async function convertToInteractive(key) {\n",
              "        const element = document.querySelector('#df-94344e16-ff76-42b6-9c66-268c3400ceb0');\n",
              "        const dataTable =\n",
              "          await google.colab.kernel.invokeFunction('convertToInteractive',\n",
              "                                                    [key], {});\n",
              "        if (!dataTable) return;\n",
              "\n",
              "        const docLinkHtml = 'Like what you see? Visit the ' +\n",
              "          '<a target=\"_blank\" href=https://colab.research.google.com/notebooks/data_table.ipynb>data table notebook</a>'\n",
              "          + ' to learn more about interactive tables.';\n",
              "        element.innerHTML = '';\n",
              "        dataTable['output_type'] = 'display_data';\n",
              "        await google.colab.output.renderOutput(dataTable, element);\n",
              "        const docLink = document.createElement('div');\n",
              "        docLink.innerHTML = docLinkHtml;\n",
              "        element.appendChild(docLink);\n",
              "      }\n",
              "    </script>\n",
              "  </div>\n",
              "\n",
              "\n",
              "<div id=\"df-eee98785-be88-4504-975c-18219a04d67d\">\n",
              "  <button class=\"colab-df-quickchart\" onclick=\"quickchart('df-eee98785-be88-4504-975c-18219a04d67d')\"\n",
              "            title=\"Suggest charts\"\n",
              "            style=\"display:none;\">\n",
              "\n",
              "<svg xmlns=\"http://www.w3.org/2000/svg\" height=\"24px\"viewBox=\"0 0 24 24\"\n",
              "     width=\"24px\">\n",
              "    <g>\n",
              "        <path d=\"M19 3H5c-1.1 0-2 .9-2 2v14c0 1.1.9 2 2 2h14c1.1 0 2-.9 2-2V5c0-1.1-.9-2-2-2zM9 17H7v-7h2v7zm4 0h-2V7h2v10zm4 0h-2v-4h2v4z\"/>\n",
              "    </g>\n",
              "</svg>\n",
              "  </button>\n",
              "\n",
              "<style>\n",
              "  .colab-df-quickchart {\n",
              "      --bg-color: #E8F0FE;\n",
              "      --fill-color: #1967D2;\n",
              "      --hover-bg-color: #E2EBFA;\n",
              "      --hover-fill-color: #174EA6;\n",
              "      --disabled-fill-color: #AAA;\n",
              "      --disabled-bg-color: #DDD;\n",
              "  }\n",
              "\n",
              "  [theme=dark] .colab-df-quickchart {\n",
              "      --bg-color: #3B4455;\n",
              "      --fill-color: #D2E3FC;\n",
              "      --hover-bg-color: #434B5C;\n",
              "      --hover-fill-color: #FFFFFF;\n",
              "      --disabled-bg-color: #3B4455;\n",
              "      --disabled-fill-color: #666;\n",
              "  }\n",
              "\n",
              "  .colab-df-quickchart {\n",
              "    background-color: var(--bg-color);\n",
              "    border: none;\n",
              "    border-radius: 50%;\n",
              "    cursor: pointer;\n",
              "    display: none;\n",
              "    fill: var(--fill-color);\n",
              "    height: 32px;\n",
              "    padding: 0;\n",
              "    width: 32px;\n",
              "  }\n",
              "\n",
              "  .colab-df-quickchart:hover {\n",
              "    background-color: var(--hover-bg-color);\n",
              "    box-shadow: 0 1px 2px rgba(60, 64, 67, 0.3), 0 1px 3px 1px rgba(60, 64, 67, 0.15);\n",
              "    fill: var(--button-hover-fill-color);\n",
              "  }\n",
              "\n",
              "  .colab-df-quickchart-complete:disabled,\n",
              "  .colab-df-quickchart-complete:disabled:hover {\n",
              "    background-color: var(--disabled-bg-color);\n",
              "    fill: var(--disabled-fill-color);\n",
              "    box-shadow: none;\n",
              "  }\n",
              "\n",
              "  .colab-df-spinner {\n",
              "    border: 2px solid var(--fill-color);\n",
              "    border-color: transparent;\n",
              "    border-bottom-color: var(--fill-color);\n",
              "    animation:\n",
              "      spin 1s steps(1) infinite;\n",
              "  }\n",
              "\n",
              "  @keyframes spin {\n",
              "    0% {\n",
              "      border-color: transparent;\n",
              "      border-bottom-color: var(--fill-color);\n",
              "      border-left-color: var(--fill-color);\n",
              "    }\n",
              "    20% {\n",
              "      border-color: transparent;\n",
              "      border-left-color: var(--fill-color);\n",
              "      border-top-color: var(--fill-color);\n",
              "    }\n",
              "    30% {\n",
              "      border-color: transparent;\n",
              "      border-left-color: var(--fill-color);\n",
              "      border-top-color: var(--fill-color);\n",
              "      border-right-color: var(--fill-color);\n",
              "    }\n",
              "    40% {\n",
              "      border-color: transparent;\n",
              "      border-right-color: var(--fill-color);\n",
              "      border-top-color: var(--fill-color);\n",
              "    }\n",
              "    60% {\n",
              "      border-color: transparent;\n",
              "      border-right-color: var(--fill-color);\n",
              "    }\n",
              "    80% {\n",
              "      border-color: transparent;\n",
              "      border-right-color: var(--fill-color);\n",
              "      border-bottom-color: var(--fill-color);\n",
              "    }\n",
              "    90% {\n",
              "      border-color: transparent;\n",
              "      border-bottom-color: var(--fill-color);\n",
              "    }\n",
              "  }\n",
              "</style>\n",
              "\n",
              "  <script>\n",
              "    async function quickchart(key) {\n",
              "      const quickchartButtonEl =\n",
              "        document.querySelector('#' + key + ' button');\n",
              "      quickchartButtonEl.disabled = true;  // To prevent multiple clicks.\n",
              "      quickchartButtonEl.classList.add('colab-df-spinner');\n",
              "      try {\n",
              "        const charts = await google.colab.kernel.invokeFunction(\n",
              "            'suggestCharts', [key], {});\n",
              "      } catch (error) {\n",
              "        console.error('Error during call to suggestCharts:', error);\n",
              "      }\n",
              "      quickchartButtonEl.classList.remove('colab-df-spinner');\n",
              "      quickchartButtonEl.classList.add('colab-df-quickchart-complete');\n",
              "    }\n",
              "    (() => {\n",
              "      let quickchartButtonEl =\n",
              "        document.querySelector('#df-eee98785-be88-4504-975c-18219a04d67d button');\n",
              "      quickchartButtonEl.style.display =\n",
              "        google.colab.kernel.accessAllowed ? 'block' : 'none';\n",
              "    })();\n",
              "  </script>\n",
              "</div>\n",
              "\n",
              "  <div id=\"id_66409fa1-a245-4dfe-bd6e-0c8186886f82\">\n",
              "    <style>\n",
              "      .colab-df-generate {\n",
              "        background-color: #E8F0FE;\n",
              "        border: none;\n",
              "        border-radius: 50%;\n",
              "        cursor: pointer;\n",
              "        display: none;\n",
              "        fill: #1967D2;\n",
              "        height: 32px;\n",
              "        padding: 0 0 0 0;\n",
              "        width: 32px;\n",
              "      }\n",
              "\n",
              "      .colab-df-generate:hover {\n",
              "        background-color: #E2EBFA;\n",
              "        box-shadow: 0px 1px 2px rgba(60, 64, 67, 0.3), 0px 1px 3px 1px rgba(60, 64, 67, 0.15);\n",
              "        fill: #174EA6;\n",
              "      }\n",
              "\n",
              "      [theme=dark] .colab-df-generate {\n",
              "        background-color: #3B4455;\n",
              "        fill: #D2E3FC;\n",
              "      }\n",
              "\n",
              "      [theme=dark] .colab-df-generate:hover {\n",
              "        background-color: #434B5C;\n",
              "        box-shadow: 0px 1px 3px 1px rgba(0, 0, 0, 0.15);\n",
              "        filter: drop-shadow(0px 1px 2px rgba(0, 0, 0, 0.3));\n",
              "        fill: #FFFFFF;\n",
              "      }\n",
              "    </style>\n",
              "    <button class=\"colab-df-generate\" onclick=\"generateWithVariable('previsao_revertida')\"\n",
              "            title=\"Generate code using this dataframe.\"\n",
              "            style=\"display:none;\">\n",
              "\n",
              "  <svg xmlns=\"http://www.w3.org/2000/svg\" height=\"24px\"viewBox=\"0 0 24 24\"\n",
              "       width=\"24px\">\n",
              "    <path d=\"M7,19H8.4L18.45,9,17,7.55,7,17.6ZM5,21V16.75L18.45,3.32a2,2,0,0,1,2.83,0l1.4,1.43a1.91,1.91,0,0,1,.58,1.4,1.91,1.91,0,0,1-.58,1.4L9.25,21ZM18.45,9,17,7.55Zm-12,3A5.31,5.31,0,0,0,4.9,8.1,5.31,5.31,0,0,0,1,6.5,5.31,5.31,0,0,0,4.9,4.9,5.31,5.31,0,0,0,6.5,1,5.31,5.31,0,0,0,8.1,4.9,5.31,5.31,0,0,0,12,6.5,5.46,5.46,0,0,0,6.5,12Z\"/>\n",
              "  </svg>\n",
              "    </button>\n",
              "    <script>\n",
              "      (() => {\n",
              "      const buttonEl =\n",
              "        document.querySelector('#id_66409fa1-a245-4dfe-bd6e-0c8186886f82 button.colab-df-generate');\n",
              "      buttonEl.style.display =\n",
              "        google.colab.kernel.accessAllowed ? 'block' : 'none';\n",
              "\n",
              "      buttonEl.onclick = () => {\n",
              "        google.colab.notebook.generateWithVariable('previsao_revertida');\n",
              "      }\n",
              "      })();\n",
              "    </script>\n",
              "  </div>\n",
              "\n",
              "    </div>\n",
              "  </div>\n"
            ],
            "application/vnd.google.colaboratory.intrinsic+json": {
              "type": "dataframe",
              "variable_name": "previsao_revertida",
              "summary": "{\n  \"name\": \"previsao_revertida\",\n  \"rows\": 12,\n  \"fields\": [\n    {\n      \"column\": 0,\n      \"properties\": {\n        \"dtype\": \"number\",\n        \"std\": 74.94143940406906,\n        \"min\": 419.669111174731,\n        \"max\": 642.7373270511166,\n        \"num_unique_values\": 12,\n        \"samples\": [\n          420.4500560838722,\n          488.4444519447466,\n          444.3291022848762\n        ],\n        \"semantic_type\": \"\",\n        \"description\": \"\"\n      }\n    }\n  ]\n}"
            }
          },
          "metadata": {},
          "execution_count": 218
        }
      ]
    },
    {
      "cell_type": "markdown",
      "source": [
        "# Visualização Previsão"
      ],
      "metadata": {
        "id": "3-N_s9A7yZX_"
      }
    },
    {
      "cell_type": "code",
      "source": [
        "dex = range(144, len(previsao_revertida) + 144)\n",
        "previsao_revertida"
      ],
      "metadata": {
        "colab": {
          "base_uri": "https://localhost:8080/",
          "height": 426
        },
        "id": "N4CF-6J7ynAX",
        "outputId": "809d13b2-3027-46c2-d6fe-74502d4cf372"
      },
      "execution_count": 219,
      "outputs": [
        {
          "output_type": "execute_result",
          "data": {
            "text/plain": [
              "             0\n",
              "0   444.329102\n",
              "1   419.669111\n",
              "2   447.466814\n",
              "3   488.195337\n",
              "4   499.467603\n",
              "5   559.476571\n",
              "6   642.737327\n",
              "7   627.731282\n",
              "8   533.734742\n",
              "9   488.444452\n",
              "10  420.450056\n",
              "11  460.187376"
            ],
            "text/html": [
              "\n",
              "  <div id=\"df-fd3632d7-cc6e-4d5c-9c3d-730add78d4ff\" class=\"colab-df-container\">\n",
              "    <div>\n",
              "<style scoped>\n",
              "    .dataframe tbody tr th:only-of-type {\n",
              "        vertical-align: middle;\n",
              "    }\n",
              "\n",
              "    .dataframe tbody tr th {\n",
              "        vertical-align: top;\n",
              "    }\n",
              "\n",
              "    .dataframe thead th {\n",
              "        text-align: right;\n",
              "    }\n",
              "</style>\n",
              "<table border=\"1\" class=\"dataframe\">\n",
              "  <thead>\n",
              "    <tr style=\"text-align: right;\">\n",
              "      <th></th>\n",
              "      <th>0</th>\n",
              "    </tr>\n",
              "  </thead>\n",
              "  <tbody>\n",
              "    <tr>\n",
              "      <th>0</th>\n",
              "      <td>444.329102</td>\n",
              "    </tr>\n",
              "    <tr>\n",
              "      <th>1</th>\n",
              "      <td>419.669111</td>\n",
              "    </tr>\n",
              "    <tr>\n",
              "      <th>2</th>\n",
              "      <td>447.466814</td>\n",
              "    </tr>\n",
              "    <tr>\n",
              "      <th>3</th>\n",
              "      <td>488.195337</td>\n",
              "    </tr>\n",
              "    <tr>\n",
              "      <th>4</th>\n",
              "      <td>499.467603</td>\n",
              "    </tr>\n",
              "    <tr>\n",
              "      <th>5</th>\n",
              "      <td>559.476571</td>\n",
              "    </tr>\n",
              "    <tr>\n",
              "      <th>6</th>\n",
              "      <td>642.737327</td>\n",
              "    </tr>\n",
              "    <tr>\n",
              "      <th>7</th>\n",
              "      <td>627.731282</td>\n",
              "    </tr>\n",
              "    <tr>\n",
              "      <th>8</th>\n",
              "      <td>533.734742</td>\n",
              "    </tr>\n",
              "    <tr>\n",
              "      <th>9</th>\n",
              "      <td>488.444452</td>\n",
              "    </tr>\n",
              "    <tr>\n",
              "      <th>10</th>\n",
              "      <td>420.450056</td>\n",
              "    </tr>\n",
              "    <tr>\n",
              "      <th>11</th>\n",
              "      <td>460.187376</td>\n",
              "    </tr>\n",
              "  </tbody>\n",
              "</table>\n",
              "</div>\n",
              "    <div class=\"colab-df-buttons\">\n",
              "\n",
              "  <div class=\"colab-df-container\">\n",
              "    <button class=\"colab-df-convert\" onclick=\"convertToInteractive('df-fd3632d7-cc6e-4d5c-9c3d-730add78d4ff')\"\n",
              "            title=\"Convert this dataframe to an interactive table.\"\n",
              "            style=\"display:none;\">\n",
              "\n",
              "  <svg xmlns=\"http://www.w3.org/2000/svg\" height=\"24px\" viewBox=\"0 -960 960 960\">\n",
              "    <path d=\"M120-120v-720h720v720H120Zm60-500h600v-160H180v160Zm220 220h160v-160H400v160Zm0 220h160v-160H400v160ZM180-400h160v-160H180v160Zm440 0h160v-160H620v160ZM180-180h160v-160H180v160Zm440 0h160v-160H620v160Z\"/>\n",
              "  </svg>\n",
              "    </button>\n",
              "\n",
              "  <style>\n",
              "    .colab-df-container {\n",
              "      display:flex;\n",
              "      gap: 12px;\n",
              "    }\n",
              "\n",
              "    .colab-df-convert {\n",
              "      background-color: #E8F0FE;\n",
              "      border: none;\n",
              "      border-radius: 50%;\n",
              "      cursor: pointer;\n",
              "      display: none;\n",
              "      fill: #1967D2;\n",
              "      height: 32px;\n",
              "      padding: 0 0 0 0;\n",
              "      width: 32px;\n",
              "    }\n",
              "\n",
              "    .colab-df-convert:hover {\n",
              "      background-color: #E2EBFA;\n",
              "      box-shadow: 0px 1px 2px rgba(60, 64, 67, 0.3), 0px 1px 3px 1px rgba(60, 64, 67, 0.15);\n",
              "      fill: #174EA6;\n",
              "    }\n",
              "\n",
              "    .colab-df-buttons div {\n",
              "      margin-bottom: 4px;\n",
              "    }\n",
              "\n",
              "    [theme=dark] .colab-df-convert {\n",
              "      background-color: #3B4455;\n",
              "      fill: #D2E3FC;\n",
              "    }\n",
              "\n",
              "    [theme=dark] .colab-df-convert:hover {\n",
              "      background-color: #434B5C;\n",
              "      box-shadow: 0px 1px 3px 1px rgba(0, 0, 0, 0.15);\n",
              "      filter: drop-shadow(0px 1px 2px rgba(0, 0, 0, 0.3));\n",
              "      fill: #FFFFFF;\n",
              "    }\n",
              "  </style>\n",
              "\n",
              "    <script>\n",
              "      const buttonEl =\n",
              "        document.querySelector('#df-fd3632d7-cc6e-4d5c-9c3d-730add78d4ff button.colab-df-convert');\n",
              "      buttonEl.style.display =\n",
              "        google.colab.kernel.accessAllowed ? 'block' : 'none';\n",
              "\n",
              "      async function convertToInteractive(key) {\n",
              "        const element = document.querySelector('#df-fd3632d7-cc6e-4d5c-9c3d-730add78d4ff');\n",
              "        const dataTable =\n",
              "          await google.colab.kernel.invokeFunction('convertToInteractive',\n",
              "                                                    [key], {});\n",
              "        if (!dataTable) return;\n",
              "\n",
              "        const docLinkHtml = 'Like what you see? Visit the ' +\n",
              "          '<a target=\"_blank\" href=https://colab.research.google.com/notebooks/data_table.ipynb>data table notebook</a>'\n",
              "          + ' to learn more about interactive tables.';\n",
              "        element.innerHTML = '';\n",
              "        dataTable['output_type'] = 'display_data';\n",
              "        await google.colab.output.renderOutput(dataTable, element);\n",
              "        const docLink = document.createElement('div');\n",
              "        docLink.innerHTML = docLinkHtml;\n",
              "        element.appendChild(docLink);\n",
              "      }\n",
              "    </script>\n",
              "  </div>\n",
              "\n",
              "\n",
              "<div id=\"df-1e2adb33-8ff8-4751-957f-6e2ac6b4d250\">\n",
              "  <button class=\"colab-df-quickchart\" onclick=\"quickchart('df-1e2adb33-8ff8-4751-957f-6e2ac6b4d250')\"\n",
              "            title=\"Suggest charts\"\n",
              "            style=\"display:none;\">\n",
              "\n",
              "<svg xmlns=\"http://www.w3.org/2000/svg\" height=\"24px\"viewBox=\"0 0 24 24\"\n",
              "     width=\"24px\">\n",
              "    <g>\n",
              "        <path d=\"M19 3H5c-1.1 0-2 .9-2 2v14c0 1.1.9 2 2 2h14c1.1 0 2-.9 2-2V5c0-1.1-.9-2-2-2zM9 17H7v-7h2v7zm4 0h-2V7h2v10zm4 0h-2v-4h2v4z\"/>\n",
              "    </g>\n",
              "</svg>\n",
              "  </button>\n",
              "\n",
              "<style>\n",
              "  .colab-df-quickchart {\n",
              "      --bg-color: #E8F0FE;\n",
              "      --fill-color: #1967D2;\n",
              "      --hover-bg-color: #E2EBFA;\n",
              "      --hover-fill-color: #174EA6;\n",
              "      --disabled-fill-color: #AAA;\n",
              "      --disabled-bg-color: #DDD;\n",
              "  }\n",
              "\n",
              "  [theme=dark] .colab-df-quickchart {\n",
              "      --bg-color: #3B4455;\n",
              "      --fill-color: #D2E3FC;\n",
              "      --hover-bg-color: #434B5C;\n",
              "      --hover-fill-color: #FFFFFF;\n",
              "      --disabled-bg-color: #3B4455;\n",
              "      --disabled-fill-color: #666;\n",
              "  }\n",
              "\n",
              "  .colab-df-quickchart {\n",
              "    background-color: var(--bg-color);\n",
              "    border: none;\n",
              "    border-radius: 50%;\n",
              "    cursor: pointer;\n",
              "    display: none;\n",
              "    fill: var(--fill-color);\n",
              "    height: 32px;\n",
              "    padding: 0;\n",
              "    width: 32px;\n",
              "  }\n",
              "\n",
              "  .colab-df-quickchart:hover {\n",
              "    background-color: var(--hover-bg-color);\n",
              "    box-shadow: 0 1px 2px rgba(60, 64, 67, 0.3), 0 1px 3px 1px rgba(60, 64, 67, 0.15);\n",
              "    fill: var(--button-hover-fill-color);\n",
              "  }\n",
              "\n",
              "  .colab-df-quickchart-complete:disabled,\n",
              "  .colab-df-quickchart-complete:disabled:hover {\n",
              "    background-color: var(--disabled-bg-color);\n",
              "    fill: var(--disabled-fill-color);\n",
              "    box-shadow: none;\n",
              "  }\n",
              "\n",
              "  .colab-df-spinner {\n",
              "    border: 2px solid var(--fill-color);\n",
              "    border-color: transparent;\n",
              "    border-bottom-color: var(--fill-color);\n",
              "    animation:\n",
              "      spin 1s steps(1) infinite;\n",
              "  }\n",
              "\n",
              "  @keyframes spin {\n",
              "    0% {\n",
              "      border-color: transparent;\n",
              "      border-bottom-color: var(--fill-color);\n",
              "      border-left-color: var(--fill-color);\n",
              "    }\n",
              "    20% {\n",
              "      border-color: transparent;\n",
              "      border-left-color: var(--fill-color);\n",
              "      border-top-color: var(--fill-color);\n",
              "    }\n",
              "    30% {\n",
              "      border-color: transparent;\n",
              "      border-left-color: var(--fill-color);\n",
              "      border-top-color: var(--fill-color);\n",
              "      border-right-color: var(--fill-color);\n",
              "    }\n",
              "    40% {\n",
              "      border-color: transparent;\n",
              "      border-right-color: var(--fill-color);\n",
              "      border-top-color: var(--fill-color);\n",
              "    }\n",
              "    60% {\n",
              "      border-color: transparent;\n",
              "      border-right-color: var(--fill-color);\n",
              "    }\n",
              "    80% {\n",
              "      border-color: transparent;\n",
              "      border-right-color: var(--fill-color);\n",
              "      border-bottom-color: var(--fill-color);\n",
              "    }\n",
              "    90% {\n",
              "      border-color: transparent;\n",
              "      border-bottom-color: var(--fill-color);\n",
              "    }\n",
              "  }\n",
              "</style>\n",
              "\n",
              "  <script>\n",
              "    async function quickchart(key) {\n",
              "      const quickchartButtonEl =\n",
              "        document.querySelector('#' + key + ' button');\n",
              "      quickchartButtonEl.disabled = true;  // To prevent multiple clicks.\n",
              "      quickchartButtonEl.classList.add('colab-df-spinner');\n",
              "      try {\n",
              "        const charts = await google.colab.kernel.invokeFunction(\n",
              "            'suggestCharts', [key], {});\n",
              "      } catch (error) {\n",
              "        console.error('Error during call to suggestCharts:', error);\n",
              "      }\n",
              "      quickchartButtonEl.classList.remove('colab-df-spinner');\n",
              "      quickchartButtonEl.classList.add('colab-df-quickchart-complete');\n",
              "    }\n",
              "    (() => {\n",
              "      let quickchartButtonEl =\n",
              "        document.querySelector('#df-1e2adb33-8ff8-4751-957f-6e2ac6b4d250 button');\n",
              "      quickchartButtonEl.style.display =\n",
              "        google.colab.kernel.accessAllowed ? 'block' : 'none';\n",
              "    })();\n",
              "  </script>\n",
              "</div>\n",
              "\n",
              "  <div id=\"id_8912d442-c488-497e-b02d-9ea541ab2938\">\n",
              "    <style>\n",
              "      .colab-df-generate {\n",
              "        background-color: #E8F0FE;\n",
              "        border: none;\n",
              "        border-radius: 50%;\n",
              "        cursor: pointer;\n",
              "        display: none;\n",
              "        fill: #1967D2;\n",
              "        height: 32px;\n",
              "        padding: 0 0 0 0;\n",
              "        width: 32px;\n",
              "      }\n",
              "\n",
              "      .colab-df-generate:hover {\n",
              "        background-color: #E2EBFA;\n",
              "        box-shadow: 0px 1px 2px rgba(60, 64, 67, 0.3), 0px 1px 3px 1px rgba(60, 64, 67, 0.15);\n",
              "        fill: #174EA6;\n",
              "      }\n",
              "\n",
              "      [theme=dark] .colab-df-generate {\n",
              "        background-color: #3B4455;\n",
              "        fill: #D2E3FC;\n",
              "      }\n",
              "\n",
              "      [theme=dark] .colab-df-generate:hover {\n",
              "        background-color: #434B5C;\n",
              "        box-shadow: 0px 1px 3px 1px rgba(0, 0, 0, 0.15);\n",
              "        filter: drop-shadow(0px 1px 2px rgba(0, 0, 0, 0.3));\n",
              "        fill: #FFFFFF;\n",
              "      }\n",
              "    </style>\n",
              "    <button class=\"colab-df-generate\" onclick=\"generateWithVariable('previsao_revertida')\"\n",
              "            title=\"Generate code using this dataframe.\"\n",
              "            style=\"display:none;\">\n",
              "\n",
              "  <svg xmlns=\"http://www.w3.org/2000/svg\" height=\"24px\"viewBox=\"0 0 24 24\"\n",
              "       width=\"24px\">\n",
              "    <path d=\"M7,19H8.4L18.45,9,17,7.55,7,17.6ZM5,21V16.75L18.45,3.32a2,2,0,0,1,2.83,0l1.4,1.43a1.91,1.91,0,0,1,.58,1.4,1.91,1.91,0,0,1-.58,1.4L9.25,21ZM18.45,9,17,7.55Zm-12,3A5.31,5.31,0,0,0,4.9,8.1,5.31,5.31,0,0,0,1,6.5,5.31,5.31,0,0,0,4.9,4.9,5.31,5.31,0,0,0,6.5,1,5.31,5.31,0,0,0,8.1,4.9,5.31,5.31,0,0,0,12,6.5,5.46,5.46,0,0,0,6.5,12Z\"/>\n",
              "  </svg>\n",
              "    </button>\n",
              "    <script>\n",
              "      (() => {\n",
              "      const buttonEl =\n",
              "        document.querySelector('#id_8912d442-c488-497e-b02d-9ea541ab2938 button.colab-df-generate');\n",
              "      buttonEl.style.display =\n",
              "        google.colab.kernel.accessAllowed ? 'block' : 'none';\n",
              "\n",
              "      buttonEl.onclick = () => {\n",
              "        google.colab.notebook.generateWithVariable('previsao_revertida');\n",
              "      }\n",
              "      })();\n",
              "    </script>\n",
              "  </div>\n",
              "\n",
              "    </div>\n",
              "  </div>\n"
            ],
            "application/vnd.google.colaboratory.intrinsic+json": {
              "type": "dataframe",
              "variable_name": "previsao_revertida",
              "summary": "{\n  \"name\": \"previsao_revertida\",\n  \"rows\": 12,\n  \"fields\": [\n    {\n      \"column\": 0,\n      \"properties\": {\n        \"dtype\": \"number\",\n        \"std\": 74.94143940406906,\n        \"min\": 419.669111174731,\n        \"max\": 642.7373270511166,\n        \"num_unique_values\": 12,\n        \"samples\": [\n          420.4500560838722,\n          488.4444519447466,\n          444.3291022848762\n        ],\n        \"semantic_type\": \"\",\n        \"description\": \"\"\n      }\n    }\n  ]\n}"
            }
          },
          "metadata": {},
          "execution_count": 219
        }
      ]
    },
    {
      "cell_type": "code",
      "source": [
        "seriecomprevisao = pd.concat([serie, previsao_revertida], axis=0,ignore_index=True)\n",
        "print(seriecomprevisao)"
      ],
      "metadata": {
        "colab": {
          "base_uri": "https://localhost:8080/"
        },
        "id": "xLF5jE-I1sIi",
        "outputId": "848a3413-f5a8-4c11-f913-ceefb6508bef"
      },
      "execution_count": 220,
      "outputs": [
        {
          "output_type": "stream",
          "name": "stdout",
          "text": [
            "              0\n",
            "0    112.000000\n",
            "1    118.000000\n",
            "2    132.000000\n",
            "3    129.000000\n",
            "4    121.000000\n",
            "..          ...\n",
            "151  627.731282\n",
            "152  533.734742\n",
            "153  488.444452\n",
            "154  420.450056\n",
            "155  460.187376\n",
            "\n",
            "[156 rows x 1 columns]\n"
          ]
        }
      ]
    },
    {
      "cell_type": "code",
      "source": [
        "plt.plot(seriecomprevisao.iloc[0:144], label='Série Real')\n",
        "plt.plot(seriecomprevisao.iloc[144:],color='red', label='Previsão')\n",
        "plt.legend(loc='best')\n",
        "plt.show()"
      ],
      "metadata": {
        "colab": {
          "base_uri": "https://localhost:8080/",
          "height": 430
        },
        "id": "XLfSqLTOyXjK",
        "outputId": "9293a38c-2973-4961-fba9-dfc75939fb45"
      },
      "execution_count": 221,
      "outputs": [
        {
          "output_type": "display_data",
          "data": {
            "text/plain": [
              "<Figure size 640x480 with 1 Axes>"
            ],
            "image/png": "[encoded data removed]"
          },
          "metadata": {}
        }
      ]
    },
    {
      "cell_type": "markdown",
      "source": [
        "![image.png](data:image/png;base64,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)"
      ],
      "metadata": {
        "id": "VEabURgwyyEq"
      }
    }
  ]
}